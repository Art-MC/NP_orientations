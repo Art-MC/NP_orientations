{
 "cells": [
  {
   "cell_type": "code",
   "execution_count": 1,
   "metadata": {},
   "outputs": [],
   "source": [
    "# needed if you're doing a new state, and needs to be done before importing dot_functions\n",
    "import matplotlib\n",
    "import scipy as sp\n",
    "\n",
    "import matplotlib.animation as animation\n",
    "from matplotlib.widgets import Slider, Button \n",
    "matplotlib.use(\"Qt5Agg\")"
   ]
  },
  {
   "cell_type": "code",
   "execution_count": 2,
   "metadata": {},
   "outputs": [],
   "source": [
    "%matplotlib qt\n",
    "%load_ext autoreload\n",
    "%autoreload 2"
   ]
  },
  {
   "cell_type": "code",
   "execution_count": 3,
   "metadata": {
    "scrolled": true
   },
   "outputs": [],
   "source": [
    "import hyperspy.api as hs\n",
    "import numpy as np\n",
    "from helpers_orig import *\n",
    "import QD_state"
   ]
  },
  {
   "cell_type": "code",
   "execution_count": 4,
   "metadata": {},
   "outputs": [],
   "source": [
    "im12 = hs.load(\"../Data/chain/12_1.3Mx_12us_1024_1.ser\")\n",
    "im14 = hs.load(\"../Data/chain/14_2.55Mx_12us_1024_1.ser\")\n",
    "im33 = hs.load(\"../Data/chain/33_910Mx_12us_1024_1.ser\")\n",
    "im48 = hs.load(\"../Data/chain/48_2.55Mx_12us_1024_1.ser\")\n",
    "im81 = hs.load(\"../Data/chain/81_1.3Mx_12us_1024_1.ser\")\n",
    "im92 = hs.load(\"../Data/chain/92_2.55Mx_12us_1024_1.ser\")\n",
    "im97 = hs.load(\"../Data/chain/97_1.8Mx_12us_1024_1.ser\")\n",
    "im128 = hs.load(\"../Data/chain/128_1.8Mx_12us_1024_1.ser\")"
   ]
  },
  {
   "cell_type": "code",
   "execution_count": 5,
   "metadata": {},
   "outputs": [],
   "source": [
    "all_ims = [im12, im14, im33, im48, im81, im92, im97, im128]\n",
    "# show_im(im97)"
   ]
  },
  {
   "cell_type": "code",
   "execution_count": 6,
   "metadata": {},
   "outputs": [],
   "source": [
    "s97 = QD_state.state(im97.data, 'chain_97', np.shape(im97))"
   ]
  },
  {
   "cell_type": "code",
   "execution_count": null,
   "metadata": {},
   "outputs": [],
   "source": []
  },
  {
   "cell_type": "code",
   "execution_count": 7,
   "metadata": {},
   "outputs": [],
   "source": [
    "im = s97.orig_image"
   ]
  },
  {
   "cell_type": "code",
   "execution_count": 8,
   "metadata": {
    "collapsed": true
   },
   "outputs": [
    {
     "name": "stdout",
     "output_type": "stream",
     "text": [
      "seg threshhold:  16654.735416666666\n",
      "this part takes a minute\n",
      "heres the segmented image... not necessary but nice to see it didnt screw up.\n",
      "A RuntimeWarning is thrown. Don't worry about it too much... \n",
      " also this part takes several minutes.\n",
      "about to engage clickable_im so that you can make corrections as necessary.\n",
      "            \n",
      "For the most part the dots near the edge are cropped so they dont matter as much,\n",
      "            \n",
      "but they are still helpful to add so the ones not on the edge have a more accurate psi4 value.\n",
      "            \n",
      "Right click to add a dot, delete key near the cm of a dot to delete it.\n",
      "\n"
     ]
    },
    {
     "ename": "TypeError",
     "evalue": "'NoneType' object is not iterable",
     "output_type": "error",
     "traceback": [
      "\u001b[0;31m---------------------------------------------------------------------------\u001b[0m",
      "\u001b[0;31mTypeError\u001b[0m                                 Traceback (most recent call last)",
      "\u001b[0;32m<ipython-input-8-6715793c2fbf>\u001b[0m in \u001b[0;36m<module>\u001b[0;34m\u001b[0m\n\u001b[0;32m----> 1\u001b[0;31m \u001b[0ms97\u001b[0m\u001b[0;34m.\u001b[0m\u001b[0msegment_dots\u001b[0m\u001b[0;34m(\u001b[0m\u001b[0;34m)\u001b[0m\u001b[0;34m\u001b[0m\u001b[0;34m\u001b[0m\u001b[0m\n\u001b[0m",
      "\u001b[0;32m~/OneDrive/Documents/grad_school/QD_project/NP_orientations/QD_state.py\u001b[0m in \u001b[0;36msegment_dots\u001b[0;34m(self)\u001b[0m\n\u001b[1;32m    251\u001b[0m         \u001b[0mcheck\u001b[0m \u001b[0;34m=\u001b[0m \u001b[0;34m'correct'\u001b[0m\u001b[0;34m\u001b[0m\u001b[0;34m\u001b[0m\u001b[0m\n\u001b[1;32m    252\u001b[0m         \u001b[0;32mwhile\u001b[0m \u001b[0mcheck\u001b[0m \u001b[0;34m!=\u001b[0m \u001b[0;34m'done'\u001b[0m\u001b[0;34m:\u001b[0m\u001b[0;34m\u001b[0m\u001b[0;34m\u001b[0m\u001b[0m\n\u001b[0;32m--> 253\u001b[0;31m             \u001b[0mself\u001b[0m\u001b[0;34m.\u001b[0m\u001b[0mclickable_im_cm\u001b[0m\u001b[0;34m(\u001b[0m\u001b[0mself\u001b[0m\u001b[0;34m.\u001b[0m\u001b[0morig_image\u001b[0m\u001b[0;34m,\u001b[0m \u001b[0mself\u001b[0m\u001b[0;34m.\u001b[0m\u001b[0mQD_list\u001b[0m\u001b[0;34m)\u001b[0m\u001b[0;34m\u001b[0m\u001b[0;34m\u001b[0m\u001b[0m\n\u001b[0m\u001b[1;32m    254\u001b[0m             \u001b[0mcheck\u001b[0m \u001b[0;34m=\u001b[0m \u001b[0mstr\u001b[0m\u001b[0;34m(\u001b[0m\u001b[0minput\u001b[0m\u001b[0;34m(\u001b[0m\u001b[0;34m'say \"done\" if done, or anything else to make more edits: '\u001b[0m\u001b[0;34m)\u001b[0m\u001b[0;34m)\u001b[0m\u001b[0;34m\u001b[0m\u001b[0;34m\u001b[0m\u001b[0m\n\u001b[1;32m    255\u001b[0m \u001b[0;34m\u001b[0m\u001b[0m\n",
      "\u001b[0;32m~/OneDrive/Documents/grad_school/QD_project/NP_orientations/QD_state.py\u001b[0m in \u001b[0;36mclickable_im_cm\u001b[0;34m(self, image, QD_list)\u001b[0m\n\u001b[1;32m    704\u001b[0m         \u001b[0mim\u001b[0m \u001b[0;34m=\u001b[0m \u001b[0mimage\u001b[0m\u001b[0;34m\u001b[0m\u001b[0;34m\u001b[0m\u001b[0m\n\u001b[1;32m    705\u001b[0m         \u001b[0mpeaks\u001b[0m \u001b[0;34m=\u001b[0m \u001b[0;34m[\u001b[0m\u001b[0;34m]\u001b[0m\u001b[0;34m\u001b[0m\u001b[0;34m\u001b[0m\u001b[0m\n\u001b[0;32m--> 706\u001b[0;31m         \u001b[0;32mfor\u001b[0m \u001b[0mdot\u001b[0m \u001b[0;32min\u001b[0m \u001b[0mQD_list\u001b[0m\u001b[0;34m:\u001b[0m\u001b[0;34m\u001b[0m\u001b[0;34m\u001b[0m\u001b[0m\n\u001b[0m\u001b[1;32m    707\u001b[0m             \u001b[0mpeaks\u001b[0m\u001b[0;34m.\u001b[0m\u001b[0mappend\u001b[0m\u001b[0;34m(\u001b[0m\u001b[0mdot\u001b[0m\u001b[0;34m.\u001b[0m\u001b[0mcm\u001b[0m\u001b[0;34m)\u001b[0m\u001b[0;34m\u001b[0m\u001b[0;34m\u001b[0m\u001b[0m\n\u001b[1;32m    708\u001b[0m         \u001b[0mpeaks\u001b[0m \u001b[0;34m=\u001b[0m \u001b[0mnp\u001b[0m\u001b[0;34m.\u001b[0m\u001b[0marray\u001b[0m\u001b[0;34m(\u001b[0m\u001b[0mpeaks\u001b[0m\u001b[0;34m)\u001b[0m\u001b[0;34m\u001b[0m\u001b[0;34m\u001b[0m\u001b[0m\n",
      "\u001b[0;31mTypeError\u001b[0m: 'NoneType' object is not iterable"
     ]
    }
   ],
   "source": [
    "s97.segment_dots()"
   ]
  },
  {
   "cell_type": "markdown",
   "metadata": {},
   "source": [
    "### Useful maybe for clicking things? "
   ]
  },
  {
   "cell_type": "code",
   "execution_count": 11,
   "metadata": {},
   "outputs": [],
   "source": [
    "def test_cursor():\n",
    "    import time\n",
    "\n",
    "\n",
    "\n",
    "    def tellme(s):\n",
    "        print(s)\n",
    "        plt.title(s, fontsize=16)\n",
    "        plt.draw()\n",
    "\n",
    "\n",
    "\n",
    "    plt.clf()\n",
    "    plt.axis([-1., 1., -1., 1.])\n",
    "    plt.setp(plt.gca(), autoscale_on=False)\n",
    "\n",
    "    tellme('You will define a triangle, click to begin')\n",
    "\n",
    "    plt.waitforbuttonpress()\n",
    "\n",
    "    while True:\n",
    "        pts = []\n",
    "        while len(pts) < 3:\n",
    "            tellme('Select 3 corners with mouse')\n",
    "            pts = np.asarray(plt.ginput(3, timeout=-1))\n",
    "            if len(pts) < 3:\n",
    "                tellme('Too few points, starting over')\n",
    "                time.sleep(1)  # Wait a second\n",
    "\n",
    "        ph = plt.fill(pts[:, 0], pts[:, 1], 'r', lw=2)\n",
    "\n",
    "        tellme('Happy? Key click for yes, mouse click for no')\n",
    "\n",
    "        if plt.waitforbuttonpress():\n",
    "            break\n",
    "\n",
    "        # Get rid of fill\n",
    "        for p in ph:\n",
    "            p.remove()\n",
    "\n",
    "    # Define a nice function of distance from individual pts\n",
    "    def f(x, y, pts):\n",
    "        z = np.zeros_like(x)\n",
    "        for p in pts:\n",
    "            z = z + 1/(np.sqrt((x - p[0])**2 + (y - p[1])**2))\n",
    "        return 1/z\n",
    "\n",
    "\n",
    "    X, Y = np.meshgrid(np.linspace(-1, 1, 51), np.linspace(-1, 1, 51))\n",
    "    Z = f(X, Y, pts)\n",
    "\n",
    "    CS = plt.contour(X, Y, Z, 20)\n",
    "\n",
    "    tellme('Use mouse to select contour label locations, middle button to finish')\n",
    "    CL = plt.clabel(CS, manual=True)\n",
    "\n",
    "\n",
    "    tellme('Now do a nested zoom, click to begin')\n",
    "    plt.waitforbuttonpress()\n",
    "\n",
    "    while True:\n",
    "        tellme('Select two corners of zoom, middle mouse button to finish')\n",
    "        pts = np.asarray(plt.ginput(2, timeout=-1))\n",
    "\n",
    "        if len(pts) < 2:\n",
    "            break\n",
    "\n",
    "        pts = np.sort(pts, axis=0)\n",
    "        plt.axis(pts.T.ravel())\n",
    "\n",
    "    tellme('All Done!')\n",
    "    plt.close()"
   ]
  },
  {
   "cell_type": "code",
   "execution_count": 13,
   "metadata": {},
   "outputs": [
    {
     "name": "stdout",
     "output_type": "stream",
     "text": [
      "You will define a triangle, click to begin\n",
      "Select 3 corners with mouse\n",
      "Happy? Key click for yes, mouse click for no\n",
      "Select 3 corners with mouse\n",
      "Happy? Key click for yes, mouse click for no\n",
      "Use mouse to select contour label locations, middle button to finish\n",
      "Select label locations manually using first mouse button.\n",
      "End manual selection with second mouse button.\n",
      "Now do a nested zoom, click to begin\n",
      "Select two corners of zoom, middle mouse button to finish\n",
      "Select two corners of zoom, middle mouse button to finish\n",
      "Select two corners of zoom, middle mouse button to finish\n",
      "Select two corners of zoom, middle mouse button to finish\n",
      "All Done!\n"
     ]
    }
   ],
   "source": [
    "test_cursor()"
   ]
  },
  {
   "cell_type": "code",
   "execution_count": null,
   "metadata": {
    "scrolled": true
   },
   "outputs": [],
   "source": [
    "from matplotlib.widgets import Cursor\n",
    "\n",
    "\n",
    "fig = plt.figure(figsize=(8, 6))\n",
    "ax = fig.add_subplot(111, facecolor='#FFFFCC')\n",
    "\n",
    "x, y = 4*(np.random.rand(2, 100) - .5)\n",
    "ax.plot(x, y, 'o')\n",
    "ax.set_xlim(-2, 2)\n",
    "ax.set_ylim(-2, 2)\n",
    "\n",
    "# set useblit = True on gtkagg for enhanced performance\n",
    "cursor = Cursor(ax, useblit=True, color='red', linewidth=2)\n",
    "\n",
    "plt.show()\n"
   ]
  },
  {
   "cell_type": "code",
   "execution_count": null,
   "metadata": {},
   "outputs": [],
   "source": []
  }
 ],
 "metadata": {
  "kernelspec": {
   "display_name": "Python 3",
   "language": "python",
   "name": "python3"
  },
  "language_info": {
   "codemirror_mode": {
    "name": "ipython",
    "version": 3
   },
   "file_extension": ".py",
   "mimetype": "text/x-python",
   "name": "python",
   "nbconvert_exporter": "python",
   "pygments_lexer": "ipython3",
   "version": "3.7.3"
  }
 },
 "nbformat": 4,
 "nbformat_minor": 2
}
