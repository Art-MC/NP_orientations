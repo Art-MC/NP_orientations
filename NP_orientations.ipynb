{
 "cells": [
  {
   "cell_type": "markdown",
   "metadata": {},
   "source": [
    "### setup"
   ]
  },
  {
   "cell_type": "code",
   "execution_count": 2,
   "metadata": {},
   "outputs": [],
   "source": [
    "# needed if you're doing a new state, and needs to be done before importing dot_functions\n",
    "import matplotlib\n",
    "import scipy as sp\n",
    "\n",
    "import matplotlib.animation as animation\n",
    "from matplotlib.widgets import Slider, Button \n",
    "matplotlib.use(\"Qt5Agg\")"
   ]
  },
  {
   "cell_type": "code",
   "execution_count": 3,
   "metadata": {},
   "outputs": [],
   "source": [
    "%matplotlib qt\n",
    "%load_ext autoreload\n",
    "%autoreload 2"
   ]
  },
  {
   "cell_type": "code",
   "execution_count": 4,
   "metadata": {
    "scrolled": true
   },
   "outputs": [],
   "source": [
    "import hyperspy.api as hs\n",
    "import numpy as np\n",
    "from helpers_orig import *\n",
    "import helpers\n",
    "import QD_state"
   ]
  },
  {
   "cell_type": "code",
   "execution_count": 5,
   "metadata": {},
   "outputs": [],
   "source": [
    "im12 = hs.load(\"../Data/chain/12_1.3Mx_12us_1024_1.ser\")\n",
    "im14 = hs.load(\"../Data/chain/14_2.55Mx_12us_1024_1.ser\")\n",
    "im33 = hs.load(\"../Data/chain/33_910Mx_12us_1024_1.ser\")\n",
    "im48 = hs.load(\"../Data/chain/48_2.55Mx_12us_1024_1.ser\")\n",
    "im81 = hs.load(\"../Data/chain/81_1.3Mx_12us_1024_1.ser\")\n",
    "im92 = hs.load(\"../Data/chain/92_2.55Mx_12us_1024_1.ser\")\n",
    "im97 = hs.load(\"../Data/chain/97_1.8Mx_12us_1024_1.ser\")\n",
    "im128 = hs.load(\"../Data/chain/128_1.8Mx_12us_1024_1.ser\")"
   ]
  },
  {
   "cell_type": "code",
   "execution_count": 6,
   "metadata": {},
   "outputs": [],
   "source": [
    "all_ims = [im12, im14, im33, im48, im81, im92, im97, im128]\n",
    "# show_im(im97)"
   ]
  },
  {
   "cell_type": "code",
   "execution_count": 7,
   "metadata": {},
   "outputs": [],
   "source": [
    "s97 = QD_state.state(im97.data, 'chain_97', np.shape(im97))"
   ]
  },
  {
   "cell_type": "code",
   "execution_count": 8,
   "metadata": {},
   "outputs": [],
   "source": [
    "s92 = QD_state.state(im92.data, 'chain_92', np.shape(im92))"
   ]
  },
  {
   "cell_type": "code",
   "execution_count": 104,
   "metadata": {},
   "outputs": [],
   "source": [
    "show_im(s97.orig_image)"
   ]
  },
  {
   "cell_type": "code",
   "execution_count": 9,
   "metadata": {},
   "outputs": [
    {
     "name": "stdout",
     "output_type": "stream",
     "text": [
      "seg threshhold:  16907.834375\n",
      "this part takes a minute\n",
      "adding [ 593.5086580086579 ,  7.257575757575637 ]\n",
      "closing\n",
      "These are the final ponts. \n",
      "\n",
      "            Click to close the figure and you'll be prompted \n",
      "            if you want to try again. \n",
      "does this work? (y/n)y\n",
      "heres the segmented image... not necessary but nice to see it didnt screw up.\n"
     ]
    }
   ],
   "source": [
    "s97.segment_dots()"
   ]
  },
  {
   "cell_type": "code",
   "execution_count": 10,
   "metadata": {},
   "outputs": [],
   "source": [
    "show_im(s92.orig_image)"
   ]
  },
  {
   "cell_type": "code",
   "execution_count": 34,
   "metadata": {},
   "outputs": [
    {
     "name": "stdout",
     "output_type": "stream",
     "text": [
      "seg threshhold:  16914.603125\n",
      "this part takes a minute\n",
      "delete pressed\n",
      "delete  (971.0, 223.5)\n",
      "adding [ 1006.3225108225107 ,  242.75541125541127 ]\n",
      "delete pressed\n",
      "delete  (53.0, 972.0)\n",
      "adding [ 50.47835497835467 ,  999.1190476190477 ]\n",
      "delete pressed\n",
      "delete  (310.0, 929.0)\n",
      "adding [ 255.49999999999977 ,  965.8722943722944 ]\n",
      "closing\n",
      "These are the final ponts. \n",
      "\n",
      "            Click to close the figure and you'll be prompted \n",
      "            if you want to try again. \n",
      "does this work? (y/n)y\n",
      "heres the segmented image... not necessary but nice to see it didnt screw up.\n"
     ]
    },
    {
     "data": {
      "text/plain": [
       "'current point'"
      ]
     },
     "execution_count": 34,
     "metadata": {},
     "output_type": "execute_result"
    }
   ],
   "source": [
    "s92.segment_dots()"
   ]
  },
  {
   "cell_type": "markdown",
   "metadata": {},
   "source": [
    "As an example of where to threshhold, s97 works well with ~16890, s92 with ~16914"
   ]
  },
  {
   "cell_type": "markdown",
   "metadata": {},
   "source": [
    "### segmentation "
   ]
  },
  {
   "cell_type": "code",
   "execution_count": 14,
   "metadata": {},
   "outputs": [],
   "source": [
    "from scipy.ndimage.morphology import binary_closing, binary_opening, binary_dilation, binary_erosion, distance_transform_edt\n",
    "import skimage\n",
    "from skimage.morphology import watershed\n",
    "from skimage.segmentation import random_walker\n",
    "from scipy.ndimage.measurements import center_of_mass\n",
    "\n",
    "def segment_im2(im, threshhold):\n",
    "    '''This function takes in the original image and segments it using a random walker algorithm \n",
    "    and the threshhold value given. It returns the segmented image\n",
    "    (where each QD corresponds to a different color value) and the number of QDs. \n",
    "    Originally was done by a watershed algorithm but the backend of that was changed and it started\n",
    "    screwing up. I'm happier with random walker anyways though, I think it has better edges\n",
    "    between QDs. \n",
    "    \n",
    "    returns: (segmented image, #QDs)\n",
    "    '''\n",
    "\n",
    "    # threshholds the image and runs some openings and closings to make a mask\n",
    "    threshholded_im = im > threshhold    \n",
    "    opened_im = binary_opening(threshholded_im,iterations = 3)\n",
    "    mask = binary_closing(opened_im, iterations = 3)\n",
    "    \n",
    "    # applies a distance transform and peak finder to get center of each QD\n",
    "    distanceT = distance_transform_edt(mask)\n",
    "    local_max_points = skimage.feature.corner_peaks(distanceT, min_distance=40, indices=True)\n",
    "    other = skimage.feature.peak_local_max(distanceT, min_distance=40, indices=True)\n",
    "    \n",
    "    ''' So there is a small issue in the way skimage works: \n",
    "    peak_local_max labels all connected max points (I can't get it to not)\n",
    "    and corner_peak labels the corner. So this adjusts that to the center \n",
    "    of the same-colored area within a cutoff range of 40 pixels. '''\n",
    "    final_points = []\n",
    "    cutoff_range = 40\n",
    "    for point in local_max_points:\n",
    "        py, px = point[0], point[1]\n",
    "        color = distanceT[point[0], point[1]]\n",
    "        others = np.where(distanceT == color)\n",
    "        others_points = list(zip(others[0], others[1]))\n",
    "        \n",
    "        centers = np.zeros(np.shape(im))\n",
    "        centers[int(py),int(px)] = 1\n",
    "        for coord in others_points:\n",
    "            cy, cx = coord[0], coord[1]\n",
    "            dist = np.sqrt((cy-py)**2 + (cx - px)**2)\n",
    "            if dist < cutoff_range:\n",
    "                centers[int(cy), int(cx)] = 1\n",
    "        \n",
    "        # gets the center of the peak from distance transform via c.o.m. \n",
    "        com = center_of_mass(centers)\n",
    "        final_points.append(com)\n",
    "        \n",
    "\n",
    "    # so at this point the user can see where the QD rough centers are, \n",
    "    # and add/remove as necessary.     \n",
    "    check = 'n'\n",
    "    while check != 'y':\n",
    "        points_fixed = helpers.QD_check(im, final_points)\n",
    "        check = str(input(\"does this work? (y/n)\"))\n",
    "    \n",
    "    # now take the centers from points_fixed and turn it into a zeros array\n",
    "    # with 1 at centers\n",
    "    centers = np.zeros(np.shape(im))\n",
    "    for point in final_points:\n",
    "        centers[int(point[0]), int(point[1])] = 1\n",
    "    \n",
    "    # label to format with skimage and feed into random walker algorithm\n",
    "    markers = skimage.measure.label(centers, return_num=True)\n",
    "    marker_array = markers[0]\n",
    "    marker_num = markers[1]\n",
    "    \n",
    "    marker_array[~mask] = -1\n",
    "    rw_image = random_walker(mask, marker_array)\n",
    "\n",
    "#     show_im(rw_image, \"random walk\")\n",
    "    \n",
    "    return(rw_image, marker_num)"
   ]
  },
  {
   "cell_type": "code",
   "execution_count": 30,
   "metadata": {},
   "outputs": [],
   "source": [
    "from QD_state import QD\n",
    "def center_masses( im, num, img_name):\n",
    "    '''takes in the output of segment_im and gives you the centers of masses for all dat ish'''\n",
    "    temp = []\n",
    "    pixlist = []\n",
    "\n",
    "    for i in range(1,int(num)+1):\n",
    "        dot_im = np.where(im == i, 1, 0)\n",
    "        npix = np.count_nonzero(dot_im)\n",
    "        # pixlist.append(npix)\n",
    "\n",
    "        cm = center_of_mass(dot_im)\n",
    "        temp.append(cm)\n",
    "\n",
    "    # get_histo(pixlist, 0, np.max(pixlist), 200)\n",
    "    ret = []    \n",
    "    ind = 0\n",
    "    for i in temp:\n",
    "        if not np.isnan(i[0]):\n",
    "            ret.append(QD(i,img_name))\n",
    "            ret[-1].QD_index = ind\n",
    "        ind += 1 \n",
    "\n",
    "    return(ret)"
   ]
  },
  {
   "cell_type": "code",
   "execution_count": 16,
   "metadata": {
    "scrolled": false
   },
   "outputs": [
    {
     "name": "stdout",
     "output_type": "stream",
     "text": [
      "adding [ 593.5086580086579 ,  18.339826839826742 ]\n",
      "closing\n",
      "These are the final ponts. \n",
      "\n",
      "            Click to close the figure and you'll be prompted \n",
      "            if you want to try again. \n",
      "does this work? (y/n)y\n"
     ]
    }
   ],
   "source": [
    "img_segmented = segment_im2(s97.orig_image, 16890)"
   ]
  },
  {
   "cell_type": "code",
   "execution_count": 25,
   "metadata": {},
   "outputs": [
    {
     "data": {
      "text/plain": [
       "27"
      ]
     },
     "execution_count": 25,
     "metadata": {},
     "output_type": "execute_result"
    }
   ],
   "source": [
    "img_segmented[1]"
   ]
  },
  {
   "cell_type": "code",
   "execution_count": 31,
   "metadata": {},
   "outputs": [],
   "source": [
    "QD_list = center_masses(img_segmented[0], img_segmented[1], \"filename\")"
   ]
  },
  {
   "cell_type": "code",
   "execution_count": 32,
   "metadata": {},
   "outputs": [],
   "source": [
    "centers = []\n",
    "for QD in QD_list:\n",
    "    centers.append(QD.cm)\n",
    "\n",
    "show_im_fits(s97.orig_image, np.array(centers))"
   ]
  },
  {
   "cell_type": "code",
   "execution_count": 24,
   "metadata": {
    "scrolled": true
   },
   "outputs": [
    {
     "data": {
      "text/plain": [
       "(24,)"
      ]
     },
     "execution_count": 24,
     "metadata": {},
     "output_type": "execute_result"
    }
   ],
   "source": [
    "np.shape(QD_list)"
   ]
  },
  {
   "cell_type": "code",
   "execution_count": 26,
   "metadata": {},
   "outputs": [
    {
     "data": {
      "text/plain": [
       "(55.99249665455936, 321.90948193462054)"
      ]
     },
     "execution_count": 26,
     "metadata": {},
     "output_type": "execute_result"
    }
   ],
   "source": [
    "QD_list[0].cm"
   ]
  },
  {
   "cell_type": "code",
   "execution_count": null,
   "metadata": {},
   "outputs": [],
   "source": []
  },
  {
   "cell_type": "code",
   "execution_count": null,
   "metadata": {},
   "outputs": [],
   "source": []
  },
  {
   "cell_type": "code",
   "execution_count": null,
   "metadata": {},
   "outputs": [],
   "source": []
  },
  {
   "cell_type": "code",
   "execution_count": null,
   "metadata": {},
   "outputs": [],
   "source": []
  },
  {
   "cell_type": "markdown",
   "metadata": {
    "heading_collapsed": true
   },
   "source": [
    "### spectral clustering"
   ]
  },
  {
   "cell_type": "code",
   "execution_count": null,
   "metadata": {
    "hidden": true,
    "scrolled": false
   },
   "outputs": [],
   "source": [
    "\n",
    "from sklearn.feature_extraction import image\n",
    "from sklearn.cluster import spectral_clustering\n",
    "\n",
    "# l = 100\n",
    "# x, y = np.indices((l, l))\n",
    "\n",
    "# center1 = (28, 24)\n",
    "# center2 = (40, 50)\n",
    "# center3 = (67, 58)\n",
    "# center4 = (24, 70)\n",
    "\n",
    "# radius1, radius2, radius3, radius4 = 16, 14, 15, 14\n",
    "\n",
    "# circle1 = (x - center1[0]) ** 2 + (y - center1[1]) ** 2 < radius1 ** 2\n",
    "# circle2 = (x - center2[0]) ** 2 + (y - center2[1]) ** 2 < radius2 ** 2\n",
    "# circle3 = (x - center3[0]) ** 2 + (y - center3[1]) ** 2 < radius3 ** 2\n",
    "# circle4 = (x - center4[0]) ** 2 + (y - center4[1]) ** 2 < radius4 ** 2\n",
    "\n",
    "# # #############################################################################\n",
    "# # 4 circles\n",
    "# img = circle1 + circle2 + circle3 + circle4\n",
    "\n",
    "# # We use a mask that limits to the foreground: the problem that we are\n",
    "# # interested in here is not separating the objects from the background,\n",
    "# # # but separating them one from the other.\n",
    "\n",
    "# img = img.astype(float)\n",
    "# img += 1 + 0.2 * np.random.randn(*img.shape)\n",
    "\n",
    "\n",
    "img = s97.orig_image\n",
    "show_im(img, \"img\")\n",
    "threshhold = 16890\n",
    "threshholded_im = img > threshhold\n",
    "\n",
    "\n",
    "opened_im = binary_opening(threshholded_im,iterations = 3)\n",
    "mask = binary_closing(opened_im, iterations = 3)\n",
    "# show_im(mask, \"mask\")\n",
    "\n",
    "# Convert the image into a graph with the value of the gradient on the\n",
    "# edges.\n",
    "graph = image.img_to_graph(img, mask=mask)\n",
    "\n",
    "print('graphed')\n",
    "# Take a decreasing function of the gradient: we take it weakly\n",
    "# dependent from the gradient the segmentation is close to a voronoi\n",
    "graph.data = np.exp(-graph.data / graph.data.std())\n",
    "\n",
    "print('graphed2')\n",
    "# Force the solver to be arpack, since amg is numerically\n",
    "# unstable on this example\n",
    "labels = spectral_clustering(graph, n_clusters=4, eigen_solver='arpack')\n",
    "print('labeled')\n",
    "label_im = np.full(mask.shape, -1.)\n",
    "label_im[mask] = labels\n",
    "\n",
    "plt.matshow(img)\n",
    "plt.matshow(label_im)\n",
    "\n",
    "# #############################################################################\n",
    "# # 2 circles\n",
    "# img = circle1 + circle2\n",
    "# mask = img.astype(bool)\n",
    "# img = img.astype(float)\n",
    "\n",
    "# img += 1 + 0.2 * np.random.randn(*img.shape)\n",
    "\n",
    "# graph = image.img_to_graph(img, mask=mask)\n",
    "# graph.data = np.exp(-graph.data / graph.data.std())\n",
    "\n",
    "# labels = spectral_clustering(graph, n_clusters=2, eigen_solver='arpack')\n",
    "# label_im = np.full(mask.shape, -1.)\n",
    "# label_im[mask] = labels\n",
    "\n",
    "# plt.matshow(img)\n",
    "# plt.matshow(label_im)\n",
    "\n",
    "# plt.show()"
   ]
  },
  {
   "cell_type": "code",
   "execution_count": null,
   "metadata": {
    "hidden": true
   },
   "outputs": [],
   "source": [
    "100*100*8"
   ]
  },
  {
   "cell_type": "code",
   "execution_count": null,
   "metadata": {
    "hidden": true
   },
   "outputs": [],
   "source": [
    "?graph"
   ]
  },
  {
   "cell_type": "markdown",
   "metadata": {},
   "source": [
    "### Useful maybe for clicking things? "
   ]
  },
  {
   "cell_type": "code",
   "execution_count": null,
   "metadata": {},
   "outputs": [],
   "source": [
    "def test_cursor():\n",
    "    import time\n",
    "\n",
    "\n",
    "\n",
    "    def tellme(s):\n",
    "        print(s)\n",
    "        plt.title(s, fontsize=16)\n",
    "        plt.draw()\n",
    "\n",
    "\n",
    "\n",
    "    plt.clf()\n",
    "    plt.axis([-1., 1., -1., 1.])\n",
    "    plt.setp(plt.gca(), autoscale_on=False)\n",
    "\n",
    "    tellme('You will define a triangle, click to begin')\n",
    "\n",
    "    plt.waitforbuttonpress()\n",
    "\n",
    "    while True:\n",
    "        pts = []\n",
    "        while len(pts) < 3:\n",
    "            tellme('Select 3 corners with mouse')\n",
    "            pts = np.asarray(plt.ginput(3, timeout=-1))\n",
    "            if len(pts) < 3:\n",
    "                tellme('Too few points, starting over')\n",
    "                time.sleep(1)  # Wait a second\n",
    "\n",
    "        ph = plt.fill(pts[:, 0], pts[:, 1], 'r', lw=2)\n",
    "\n",
    "        tellme('Happy? Key click for yes, mouse click for no')\n",
    "\n",
    "        if plt.waitforbuttonpress():\n",
    "            break\n",
    "\n",
    "        # Get rid of fill\n",
    "        for p in ph:\n",
    "            p.remove()\n",
    "\n",
    "    # Define a nice function of distance from individual pts\n",
    "    def f(x, y, pts):\n",
    "        z = np.zeros_like(x)\n",
    "        for p in pts:\n",
    "            z = z + 1/(np.sqrt((x - p[0])**2 + (y - p[1])**2))\n",
    "        return 1/z\n",
    "\n",
    "\n",
    "    X, Y = np.meshgrid(np.linspace(-1, 1, 51), np.linspace(-1, 1, 51))\n",
    "    Z = f(X, Y, pts)\n",
    "\n",
    "    CS = plt.contour(X, Y, Z, 20)\n",
    "\n",
    "    tellme('Use mouse to select contour label locations, middle button to finish')\n",
    "    CL = plt.clabel(CS, manual=True)\n",
    "\n",
    "\n",
    "    tellme('Now do a nested zoom, click to begin')\n",
    "    plt.waitforbuttonpress()\n",
    "\n",
    "    while True:\n",
    "        tellme('Select two corners of zoom, middle mouse button to finish')\n",
    "        pts = np.asarray(plt.ginput(2, timeout=-1))\n",
    "\n",
    "        if len(pts) < 2:\n",
    "            break\n",
    "\n",
    "        pts = np.sort(pts, axis=0)\n",
    "        plt.axis(pts.T.ravel())\n",
    "\n",
    "    tellme('All Done!')\n",
    "    plt.close()"
   ]
  },
  {
   "cell_type": "code",
   "execution_count": null,
   "metadata": {},
   "outputs": [],
   "source": [
    "test_cursor()"
   ]
  },
  {
   "cell_type": "code",
   "execution_count": null,
   "metadata": {
    "scrolled": true
   },
   "outputs": [],
   "source": [
    "from matplotlib.widgets import Cursor\n",
    "\n",
    "\n",
    "fig = plt.figure(figsize=(8, 6))\n",
    "ax = fig.add_subplot(111, facecolor='#FFFFCC')\n",
    "\n",
    "x, y = 4*(np.random.rand(2, 100) - .5)\n",
    "ax.plot(x, y, 'o')\n",
    "ax.set_xlim(-2, 2)\n",
    "ax.set_ylim(-2, 2)\n",
    "\n",
    "# set useblit = True on gtkagg for enhanced performance\n",
    "cursor = Cursor(ax, useblit=True, color='red', linewidth=2)\n",
    "\n",
    "plt.show()\n"
   ]
  },
  {
   "cell_type": "code",
   "execution_count": null,
   "metadata": {},
   "outputs": [],
   "source": []
  }
 ],
 "metadata": {
  "kernelspec": {
   "display_name": "Python 3",
   "language": "python",
   "name": "python3"
  },
  "language_info": {
   "codemirror_mode": {
    "name": "ipython",
    "version": 3
   },
   "file_extension": ".py",
   "mimetype": "text/x-python",
   "name": "python",
   "nbconvert_exporter": "python",
   "pygments_lexer": "ipython3",
   "version": "3.7.3"
  }
 },
 "nbformat": 4,
 "nbformat_minor": 2
}
