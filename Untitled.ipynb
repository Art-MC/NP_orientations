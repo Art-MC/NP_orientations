{
 "cells": [
  {
   "cell_type": "code",
   "execution_count": 1,
   "metadata": {},
   "outputs": [
    {
     "data": {
      "text/plain": [
       "<Figure size 640x480 with 2 Axes>"
      ]
     },
     "metadata": {},
     "output_type": "display_data"
    }
   ],
   "source": [
    "#!/usr/bin/env python\n",
    "# -*- coding: utf-8 -*-\n",
    "'''\n",
    "zenith.py |github|\n",
    "------------------\n",
    "Plots an interactive heatmap of the zenith angle for a given point on a sphere\n",
    "oriented at an angle `theta` away from the observer. This is used\n",
    "to calculate the radiance map of occulted planets.\n",
    "  .. plot::\n",
    "     :align: center\n",
    "\n",
    "     from scripts import zenith\n",
    "     zenith._test()\n",
    "  .. role:: raw-html(raw)\n",
    "     :format: html\n",
    "\n",
    "  .. |github| replace:: :raw-html:`<a href = \"https://github.com/rodluger/planetplanet/blob/master/scripts/zenith.py\"><i class=\"fa fa-github\" aria-hidden=\"true\"></i></a>`\n",
    "'''\n",
    "\n",
    "from __future__ import division, print_function, absolute_import, \\\n",
    "                       unicode_literals\n",
    "import numpy as np\n",
    "import matplotlib.pyplot as pl\n",
    "from matplotlib.widgets import Slider\n",
    "cmap = pl.get_cmap('inferno_r')\n",
    "\n",
    "def _test():\n",
    "    '''\n",
    "\n",
    "    '''\n",
    "\n",
    "    # HACK: Python 2 does not seem to like the Slider widget...\n",
    "    import sys\n",
    "    if sys.version_info[0] < 3:\n",
    "        return\n",
    "\n",
    "    plot()\n",
    "    pl.show()\n",
    "\n",
    "def ZenithAngle(x, y, r, theta):\n",
    "    '''\n",
    "    Compute the zenith angle.\n",
    "\n",
    "    '''\n",
    "\n",
    "    # Normalize\n",
    "    x = x / r\n",
    "    y = y / r\n",
    "    x2 = x * x\n",
    "    y2 = y * y\n",
    "\n",
    "    # This is a solution to a quadratic equation in z = sin(za) **    2\n",
    "    z = 0.5 * ((1 - 2 * x2 - y2) * np.cos(2 * theta) + 2 * x \\\n",
    "        * np.sqrt(1 - x2 - y2) * np.sin(2 * theta) + y2 + 1)\n",
    "\n",
    "    # Where are we relative to the terminator?\n",
    "    xterm = np.sin(theta) * np.sqrt(np.abs(1 - y2))\n",
    "\n",
    "    # Solve for the zenith angle\n",
    "    if np.abs(theta) <= np.pi / 2:\n",
    "        if (x <= xterm):\n",
    "            return np.arcsin(np.sqrt(z))\n",
    "        else:\n",
    "            return np.pi - np.arcsin(np.sqrt(z))\n",
    "    else:\n",
    "        if (x >= -xterm):\n",
    "            return np.arcsin(np.sqrt(z))\n",
    "        else:\n",
    "            return np.pi - np.arcsin(np.sqrt(z))\n",
    "\n",
    "def plot():\n",
    "    '''\n",
    "\n",
    "    '''\n",
    "\n",
    "    fig, ax = pl.subplots(1)\n",
    "    ax.axis('off')\n",
    "    fig.subplots_adjust(bottom = 0.2)\n",
    "\n",
    "    z = np.zeros((100, 100)) * np.nan\n",
    "    img = pl.imshow(z, cmap = cmap, vmin = 0, vmax = 180.,\n",
    "                    extent = (-1, 1, -1, 1))\n",
    "    x = np.linspace(-0.99,0.99,1000)\n",
    "    ax.plot(x, np.sqrt(0.99 ** 2 - x ** 2), 'k-', lw = 2)\n",
    "    ax.plot(x, -np.sqrt(0.99 ** 2 - x ** 2), 'k-', lw = 2)\n",
    "    ax.set_xlim(-1.1,1.1)\n",
    "    ax.set_ylim(-1.1,1.1)\n",
    "\n",
    "    axslider = pl.axes([0.3, 0.05, 0.44, 0.03])\n",
    "    slider = Slider(axslider, r'$\\theta$', -180., 180., valinit = 45.)\n",
    "\n",
    "    def update(val):\n",
    "        theta = slider.val\n",
    "        for i, x in enumerate(np.linspace(-1,1,100)):\n",
    "            for j, y in enumerate(np.linspace(-1,1,100)):\n",
    "                if (x ** 2 + y ** 2 <= 1):\n",
    "                    z[j,i] = ZenithAngle(x, y, 1, theta * np.pi / 180) \\\n",
    "                             * 180 / np.pi\n",
    "        img.set_data(z)\n",
    "        fig.canvas.draw_idle()\n",
    "\n",
    "    slider.on_changed(update)\n",
    "    update(45.)\n",
    "\n",
    "if __name__ == '__main__':\n",
    "\n",
    "    plot()\n",
    "pl.show()\n"
   ]
  },
  {
   "cell_type": "code",
   "execution_count": 4,
   "metadata": {},
   "outputs": [],
   "source": [
    "plot()"
   ]
  },
  {
   "cell_type": "code",
   "execution_count": 3,
   "metadata": {},
   "outputs": [],
   "source": [
    "%matplotlib qt"
   ]
  },
  {
   "cell_type": "code",
   "execution_count": null,
   "metadata": {},
   "outputs": [],
   "source": []
  }
 ],
 "metadata": {
  "kernelspec": {
   "display_name": "Python 3",
   "language": "python",
   "name": "python3"
  },
  "language_info": {
   "codemirror_mode": {
    "name": "ipython",
    "version": 3
   },
   "file_extension": ".py",
   "mimetype": "text/x-python",
   "name": "python",
   "nbconvert_exporter": "python",
   "pygments_lexer": "ipython3",
   "version": "3.7.3"
  }
 },
 "nbformat": 4,
 "nbformat_minor": 2
}
