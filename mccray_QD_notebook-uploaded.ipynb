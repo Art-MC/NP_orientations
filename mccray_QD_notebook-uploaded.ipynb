{
 "cells": [
  {
   "cell_type": "markdown",
   "metadata": {},
   "source": [
    "Arthur McCray  \n",
    "arthurmccray95@gmail.com  \n",
    "Summer 2016/2017  \n",
    "\n",
    "This notebook goes with a bunch of functions currently named mccray_QD_analysis_functions.py  \n",
    "file names/paths/etc. will have to be changed for whoever is using this. Originally done on mac but at some point I got it working on windows too. That might be inconvenient for people running it on mac again, sorry. "
   ]
  },
  {
   "cell_type": "markdown",
   "metadata": {
    "code_folding": [
     40
    ]
   },
   "source": [
    "# Terminology and Such\n",
    "- Psi4KD:\n",
    "    - local measure of four fold symmetry of a dot relating more to bonded dots\n",
    "    - found defining neighbors to be all dots within a certain radius\n",
    "- Psi4Vor:\n",
    "    - local measure of four fold symmetry relating around a dot that tells more about the general lattice structure\n",
    "    - found defining neighbors as dots that share an edge of a voronoi diagram with the dot, and weighted by edge length. \n",
    "- Atomic Lattice (AL) angle - Alpha:   \n",
    "    - angle particular to individual dot, found via fft of one dot\n",
    "- Global: $\\beta^{\\mathrm{fft1}},\\beta^{\\mathrm{fft2}},\\beta^{<\\mathrm{fft}>}$: \n",
    "    - overall direction of superlattice of an image, found via fft of whole image\n",
    "    - SuperLattice (SL) angle, \n",
    "- Local:$\\beta^{KD}$: \n",
    "    - local superlattice direction around a dot found via arg of that dot's Psi4KD\n",
    "    -  SL KD, (LKD)\n",
    "- Local: $\\beta^{Vor}$:\n",
    "    - local superlattice direction around a dot found via arg of that dot's Psi4Vor\n",
    "    - SL Vor, (LVOR)\n",
    "- Global: $<\\beta^{KD}>$: \n",
    "    - Mean of all $\\beta^{KD}$,\n",
    "- Global: $<\\beta^{Vor}>$:\n",
    "    - Mean of all $\\beta^{Vor}$\n",
    "- Alphas: $\\alpha^{x}$:\n",
    "    -  difference between AL and superlattice angle:\n",
    "        - $\\alpha^{<\\mathrm{fft}>}$:\n",
    "            - Difference between AL and global $\\beta^{<\\mathrm{fft}>}$\n",
    "        - $\\alpha^{KD}$:\n",
    "            - difference between AL and local $\\beta^{KD}$\n",
    "        - $\\alpha^{<KD>}$:\n",
    "            - Difference between AL and global $<\\beta^{KD}>$\n",
    "        - $\\alpha^{Vor}$:\n",
    "            - difference between AL and local $\\beta^{Vor}$\n",
    "        - $\\alpha^{<Vor>}$: \n",
    "            - difference between AL and global $<\\beta^{Vor}>$\n",
    "        - $\\alpha^{<\\alpha>}$: \n",
    "            - average misalignment of AL from neighbors AL \n",
    "            \n",
    "    "
   ]
  },
  {
   "cell_type": "code",
   "execution_count": null,
   "metadata": {
    "collapsed": false
   },
   "outputs": [],
   "source": [
    "%load_ext autoreload\n",
    "%autoreload 2"
   ]
  },
  {
   "cell_type": "code",
   "execution_count": null,
   "metadata": {
    "collapsed": true
   },
   "outputs": [],
   "source": [
    "# needed if you're doing a new state, and needs to be done before importing dot_functions\n",
    "import matplotlib\n",
    "matplotlib.use(\"Qt4Agg\")"
   ]
  },
  {
   "cell_type": "code",
   "execution_count": null,
   "metadata": {
    "collapsed": true
   },
   "outputs": [],
   "source": [
    "%matplotlib qt"
   ]
  },
  {
   "cell_type": "code",
   "execution_count": null,
   "metadata": {
    "collapsed": false
   },
   "outputs": [],
   "source": [
    "from mccray_QD_analysis_functions import * # I changed the name of the file here, might not be changed elsewhere. "
   ]
  },
  {
   "cell_type": "markdown",
   "metadata": {},
   "source": [
    "### loading a state if you have one saved"
   ]
  },
  {
   "cell_type": "markdown",
   "metadata": {},
   "source": [
    "These are the files I was working with. You'll want to replace with your own of course. "
   ]
  },
  {
   "cell_type": "code",
   "execution_count": null,
   "metadata": {
    "collapsed": false
   },
   "outputs": [],
   "source": [
    "with open('./outputs/states/mono_maybe_16_state.pkl', 'rb') as input:\n",
    "    s16 = pickle.load(input)\n",
    "psi6V(s16.QD_list)"
   ]
  },
  {
   "cell_type": "code",
   "execution_count": null,
   "metadata": {
    "collapsed": false
   },
   "outputs": [],
   "source": [
    "with open('./outputs/states/mono_27_state.pkl', 'rb') as input:\n",
    "    s27 = pickle.load(input)\n",
    "psi6V(s27.QD_list)"
   ]
  },
  {
   "cell_type": "code",
   "execution_count": null,
   "metadata": {
    "collapsed": false
   },
   "outputs": [],
   "source": [
    "with open('./outputs/states/mono_29_state.pkl', 'rb') as input:\n",
    "    s29 = pickle.load(input)\n",
    "psi6V(s29.QD_list)"
   ]
  },
  {
   "cell_type": "code",
   "execution_count": null,
   "metadata": {
    "collapsed": false
   },
   "outputs": [],
   "source": [
    "with open('./outputs/states/mono_36_state.pkl', 'rb') as input:\n",
    "    s36 = pickle.load(input)\n",
    "psi6V(s36.QD_list)"
   ]
  },
  {
   "cell_type": "code",
   "execution_count": null,
   "metadata": {
    "collapsed": false
   },
   "outputs": [],
   "source": [
    "with open('./outputs/states/mono_45_state.pkl', 'rb') as input:\n",
    "    s45 = pickle.load(input)\n",
    "psi6V(s45.QD_list)"
   ]
  },
  {
   "cell_type": "code",
   "execution_count": null,
   "metadata": {
    "collapsed": false
   },
   "outputs": [],
   "source": [
    "with open('./outputs/states/mono_53_state.pkl', 'rb') as input:\n",
    "    s53 = pickle.load(input)\n",
    "psi6V(s53.QD_list)"
   ]
  },
  {
   "cell_type": "code",
   "execution_count": null,
   "metadata": {
    "collapsed": true
   },
   "outputs": [],
   "source": [
    "all_states = [s29,s36,s45,s53]"
   ]
  },
  {
   "cell_type": "code",
   "execution_count": null,
   "metadata": {
    "collapsed": true
   },
   "outputs": [],
   "source": [
    "all_states_no = [s29,s45,s53]"
   ]
  },
  {
   "cell_type": "code",
   "execution_count": null,
   "metadata": {
    "collapsed": true
   },
   "outputs": [],
   "source": [
    "QD_list_tot = s29.QD_list_crop + s45.QD_list_crop + s53.QD_list_crop"
   ]
  },
  {
   "cell_type": "code",
   "execution_count": null,
   "metadata": {
    "collapsed": true
   },
   "outputs": [],
   "source": [
    "QD_list_tot_36 = s29.QD_list_crop + s45.QD_list_crop + s53.QD_list_crop + s36.QD_list_crop"
   ]
  },
  {
   "cell_type": "code",
   "execution_count": null,
   "metadata": {
    "collapsed": false
   },
   "outputs": [],
   "source": [
    "np.shape(QD_list_tot_36)"
   ]
  },
  {
   "cell_type": "markdown",
   "metadata": {
    "heading_collapsed": true
   },
   "source": [
    "### else create a new one"
   ]
  },
  {
   "cell_type": "markdown",
   "metadata": {
    "hidden": true
   },
   "source": [
    "Make sure to set the backend for matplotlib properly, matplotlib.use(\"Qt4Agg\") is what you want, but it has to be done before importing the file."
   ]
  },
  {
   "cell_type": "code",
   "execution_count": null,
   "metadata": {
    "collapsed": false,
    "hidden": true
   },
   "outputs": [],
   "source": [
    "f16 = '../Data/monolayer/Maybe/tiff/16_fov160nm_8us_4096.tif'\n",
    "img_16 = np.asarray(Image.open(f16))\n",
    "f27 = '../Data/monolayer/Yes/TiffsFromDm3Files/27_fov160nm_8us_4096_hexes.tif'\n",
    "img_27 = np.asarray(Image.open(f27))\n",
    "f29 = '../Data/monolayer/Yes/TiffsFromDm3Files/29_fov160nm_8us_4096.tif'\n",
    "img_29 = np.asarray(Image.open(f29))\n",
    "f36 = '../Data/monolayer/Yes/TiffsFromDm3Files/36_fov160nm_8us_4096.tif'\n",
    "img_36 = np.asarray(Image.open(f36))\n",
    "f45 = '../Data/monolayer/Yes/TiffsFromDm3Files/45_fov160nm_8us_4096.tif'\n",
    "img_45 = np.asarray(Image.open(f45))\n",
    "f53 = '../Data/monolayer/Yes/TiffsFromDm3Files/53_fov160nm_8us_4096.tif'\n",
    "img_53 = np.asarray(Image.open(f53))"
   ]
  },
  {
   "cell_type": "code",
   "execution_count": null,
   "metadata": {
    "collapsed": true,
    "hidden": true
   },
   "outputs": [],
   "source": [
    "s16 = state(img_16,'mono_maybe_16',4096, 160)"
   ]
  },
  {
   "cell_type": "code",
   "execution_count": null,
   "metadata": {
    "collapsed": false,
    "hidden": true,
    "scrolled": true
   },
   "outputs": [],
   "source": [
    "%%time\n",
    "s16.segment_dots()"
   ]
  },
  {
   "cell_type": "markdown",
   "metadata": {
    "hidden": true
   },
   "source": [
    "thicker"
   ]
  },
  {
   "cell_type": "code",
   "execution_count": null,
   "metadata": {
    "collapsed": true,
    "hidden": true
   },
   "outputs": [],
   "source": [
    "thick_70 = '../Data/thick/Yes/tiff/70_fov200nm_8us_4096.tif'\n",
    "img_th_70 = np.asarray(Image.open(thick_70))"
   ]
  },
  {
   "cell_type": "code",
   "execution_count": null,
   "metadata": {
    "collapsed": true,
    "hidden": true
   },
   "outputs": [],
   "source": [
    "st70 = state(img_th_70,'thick_70',4096, 200)"
   ]
  },
  {
   "cell_type": "code",
   "execution_count": null,
   "metadata": {
    "collapsed": false,
    "hidden": true
   },
   "outputs": [],
   "source": [
    "%%time\n",
    "st70.segment_dots()"
   ]
  },
  {
   "cell_type": "markdown",
   "metadata": {},
   "source": [
    "### save the damn thing"
   ]
  },
  {
   "cell_type": "code",
   "execution_count": null,
   "metadata": {
    "collapsed": false
   },
   "outputs": [],
   "source": [
    "import pickle\n",
    "# okay, fair warning. Pickling can be incredibly fucking frustrating\n",
    "# what i've found is that if any modifications are made to the functions.py file\n",
    "# while working with a state object, it can't be saved. I dont know why. Its annoying as hell. \n",
    "\n",
    "with open('./outputs/states/mono_27_state.pkl', 'wb') as output:\n",
    "    pickle.dump(s27, output, -1)"
   ]
  },
  {
   "cell_type": "markdown",
   "metadata": {},
   "source": [
    "# End of setup section  \n",
    "So that's all the basic setup stuff of getting the images to a point where they can be worked with. From here, sadly, it gets even messier. Most of what I did was in different notebooks, sometimes making it to the big function .py doc and sometimes not.  \n",
    "\n",
    "Frankly, most of the extra stuff I tried didn't pan out, and most of my good data came from correlating the basic stuff. Most of what's below after the initial analysis is ways of showing the data. "
   ]
  },
  {
   "cell_type": "markdown",
   "metadata": {},
   "source": [
    "# Analysis"
   ]
  },
  {
   "cell_type": "code",
   "execution_count": null,
   "metadata": {
    "collapsed": false
   },
   "outputs": [],
   "source": [
    "sep_QD_list_tot = sort_QD_list(QD_list_tot)"
   ]
  },
  {
   "cell_type": "code",
   "execution_count": null,
   "metadata": {
    "collapsed": false
   },
   "outputs": [],
   "source": [
    "sep_QD_list_tot_36 = sort_QD_list(QD_list_tot_36)"
   ]
  },
  {
   "cell_type": "code",
   "execution_count": null,
   "metadata": {
    "collapsed": false
   },
   "outputs": [],
   "source": [
    "print('total dots: ', np.size(QD_list_tot_36))\n",
    "for i in range(8):\n",
    "    num = np.size(sep_QD_list_tot_36[i])\n",
    "    print('[', i,'] : ',num, '  ', np.around(num / np.size(QD_list_tot_36),3)*100, '%')"
   ]
  },
  {
   "cell_type": "markdown",
   "metadata": {},
   "source": [
    "## neat pretty side-by-side thing"
   ]
  },
  {
   "cell_type": "markdown",
   "metadata": {},
   "source": [
    "s53.QD_list_crop is the cropped QD_list (Default 200 pixels from the edge)\n",
    "I do most of the things with the cropped list as you get bad psi4 values (and especially orientations) on the edges"
   ]
  },
  {
   "cell_type": "code",
   "execution_count": null,
   "metadata": {
    "collapsed": false
   },
   "outputs": [],
   "source": [
    "tdot = sep_QD_list_45[3][25]\n",
    "orig_im = s45.orig_image\n",
    "(subimg,fft,r,subimg_wide) = s45.dot_fft(tdot, orig_im)\n",
    "s45.show_dot_fft(tdot,subimg,fft,r,subimg_wide, False)"
   ]
  },
  {
   "cell_type": "code",
   "execution_count": null,
   "metadata": {
    "collapsed": true
   },
   "outputs": [],
   "source": [
    "for tdot in sep_QD_list_45[3]:\n",
    "    if tdot.cm[0] > 2800 and tdot.cm[0] < 2900 and tdot.cm[1] > 2400 and tdot.cm[1] < 2700:\n",
    "        orig_im = state.orig_image\n",
    "        (subimg,fft,r,subimg_wide) = state.dot_fft(tdot, orig_im)\n",
    "        state.show_dot_fft(tdot,subimg,fft,r,subimg_wide, False)"
   ]
  },
  {
   "cell_type": "markdown",
   "metadata": {},
   "source": [
    "## more analysis tools"
   ]
  },
  {
   "cell_type": "markdown",
   "metadata": {
    "heading_collapsed": true
   },
   "source": [
    "### making stacks of ffts for dots of certain type: "
   ]
  },
  {
   "cell_type": "code",
   "execution_count": null,
   "metadata": {
    "collapsed": true,
    "hidden": true
   },
   "outputs": [],
   "source": [
    "import tifffile"
   ]
  },
  {
   "cell_type": "code",
   "execution_count": null,
   "metadata": {
    "collapsed": false,
    "hidden": true
   },
   "outputs": [],
   "source": [
    "orig_im = s29.orig_image\n",
    "fft_list = []\n",
    "count = 0\n",
    "for tdot in sep_QD_list_29[5]:\n",
    "    (subimg,fft,r,subimg_wide) = s29.dot_fft(tdot, orig_im)\n",
    "    display = np.where(np.abs(fft)!=0,np.log(np.abs(fft)),0)\n",
    "#     show_im(display)\n",
    "    display2 = display / np.max(np.abs(display))\n",
    "    display3 = skimage.img_as_int(display2)\n",
    "    fft_list.append(display3)\n",
    "    if count % 10 == 0:\n",
    "        print(count)\n",
    "    count += 1 "
   ]
  },
  {
   "cell_type": "code",
   "execution_count": null,
   "metadata": {
    "collapsed": false,
    "hidden": true
   },
   "outputs": [],
   "source": [
    "fft_list = np.asarray(fft_list, dtype = np.int16)\n",
    "tifffile.imsave('./outputs/orientation_stacks/mono_29_1n1n_stack.tif', fft_list)"
   ]
  },
  {
   "cell_type": "code",
   "execution_count": null,
   "metadata": {
    "collapsed": true,
    "hidden": true
   },
   "outputs": [],
   "source": [
    "tifffile.imsave('./outputs/orientation_stacks/test2.tif', display)"
   ]
  },
  {
   "cell_type": "code",
   "execution_count": null,
   "metadata": {
    "collapsed": false,
    "hidden": true
   },
   "outputs": [],
   "source": [
    "np.shape(fft_list)"
   ]
  },
  {
   "cell_type": "markdown",
   "metadata": {
    "heading_collapsed": true
   },
   "source": [
    "### frequency histograms\n",
    "histograms of the radial distance of the brag spotts from the center in the ffts"
   ]
  },
  {
   "cell_type": "code",
   "execution_count": null,
   "metadata": {
    "collapsed": true,
    "hidden": true
   },
   "outputs": [],
   "source": [
    "%matplotlib inline"
   ]
  },
  {
   "cell_type": "code",
   "execution_count": null,
   "metadata": {
    "collapsed": false,
    "hidden": true
   },
   "outputs": [],
   "source": [
    "all_dots = get_dist(state.QD_list) \n",
    "get_histo(all_dots,30,60,100)"
   ]
  },
  {
   "cell_type": "code",
   "execution_count": null,
   "metadata": {
    "collapsed": false,
    "hidden": true
   },
   "outputs": [],
   "source": [
    "or1n0 = get_dist(sep_QD_list[1]) # 1n0\n",
    "get_histo(or1n0, 30, 60, 100)"
   ]
  },
  {
   "cell_type": "markdown",
   "metadata": {
    "hidden": true
   },
   "source": [
    "After looking at 190 above, it kind of makes sense why it would be getting confused between 1n0 and 1nn. "
   ]
  },
  {
   "cell_type": "code",
   "execution_count": null,
   "metadata": {
    "collapsed": false,
    "hidden": true
   },
   "outputs": [],
   "source": [
    "or1nn = get_dist(sep_QD_list_36[2]) # 1nn \n",
    "get_histo(or1nn, 30, 60, 100)"
   ]
  },
  {
   "cell_type": "code",
   "execution_count": null,
   "metadata": {
    "collapsed": false,
    "hidden": true
   },
   "outputs": [],
   "source": [
    "or100 = get_dist(sep_QD_list[3]) #100\n",
    "get_histo(or100, 30, 60, 100)"
   ]
  },
  {
   "cell_type": "code",
   "execution_count": null,
   "metadata": {
    "collapsed": false,
    "hidden": true
   },
   "outputs": [],
   "source": [
    "or110 = get_dist(sep_QD_list[4]) #110\n",
    "get_histo(or110, 30, 60, 100)"
   ]
  },
  {
   "cell_type": "code",
   "execution_count": null,
   "metadata": {
    "collapsed": false,
    "hidden": true,
    "scrolled": true
   },
   "outputs": [],
   "source": [
    "or1n1n = get_dist(sep_QD_list_36[5]) # 1 n+1 n\n",
    "get_histo(or1n1n, 30, 60, 100)"
   ]
  },
  {
   "cell_type": "markdown",
   "metadata": {
    "heading_collapsed": true
   },
   "source": [
    "### plots and histos"
   ]
  },
  {
   "cell_type": "code",
   "execution_count": null,
   "metadata": {
    "collapsed": false,
    "hidden": true
   },
   "outputs": [],
   "source": [
    "alpha_histo(sep_QD_list,'color','vor')"
   ]
  },
  {
   "cell_type": "code",
   "execution_count": null,
   "metadata": {
    "collapsed": false,
    "hidden": true
   },
   "outputs": [],
   "source": [
    "alpha_histo(sep_QD_list,'color','KD')"
   ]
  },
  {
   "cell_type": "code",
   "execution_count": null,
   "metadata": {
    "collapsed": false,
    "hidden": true
   },
   "outputs": [],
   "source": [
    "plot_alpha_vs_mpsi(state.QD_list_crop,'vor','abs')"
   ]
  },
  {
   "cell_type": "code",
   "execution_count": null,
   "metadata": {
    "collapsed": true,
    "hidden": true
   },
   "outputs": [],
   "source": [
    "plot_alpha_vs_mpsi(state.QD_list_crop,'argvor','abs')"
   ]
  },
  {
   "cell_type": "code",
   "execution_count": null,
   "metadata": {
    "collapsed": true,
    "hidden": true
   },
   "outputs": [],
   "source": [
    "plot_alpha_vs_mpsi(sep_QD_list[1],'argvor','abs',sep_QD_list[3])\n",
    "# blue is secondary list"
   ]
  },
  {
   "cell_type": "code",
   "execution_count": null,
   "metadata": {
    "collapsed": true,
    "hidden": true
   },
   "outputs": [],
   "source": [
    "plot_alpha_vs_mpsi(state.QD_list_crop,'alpha','abs')"
   ]
  },
  {
   "cell_type": "code",
   "execution_count": null,
   "metadata": {
    "collapsed": false,
    "hidden": true
   },
   "outputs": [],
   "source": [
    "plot_alpha_vs_mpsi(state.QD_list_crop,'alpha_alpha','abs')"
   ]
  },
  {
   "cell_type": "code",
   "execution_count": null,
   "metadata": {
    "collapsed": false,
    "hidden": true
   },
   "outputs": [],
   "source": [
    "dif_plot(state,state.QD_list_crop,'bKD')"
   ]
  },
  {
   "cell_type": "code",
   "execution_count": null,
   "metadata": {
    "collapsed": true,
    "hidden": true
   },
   "outputs": [],
   "source": [
    "dif_plot(state,sep_QD_list[1],'bVOR',sep_QD_list[3])"
   ]
  },
  {
   "cell_type": "code",
   "execution_count": null,
   "metadata": {
    "collapsed": true,
    "hidden": true
   },
   "outputs": [],
   "source": [
    "beta_vs_alpha(state,state.QD_list_crop,'vor')"
   ]
  },
  {
   "cell_type": "code",
   "execution_count": null,
   "metadata": {
    "collapsed": true,
    "hidden": true
   },
   "outputs": [],
   "source": [
    "beta_vs_alpha(state,sep_QD_list[1],'vor',sep_QD_list[3])"
   ]
  },
  {
   "cell_type": "code",
   "execution_count": null,
   "metadata": {
    "collapsed": false,
    "hidden": true
   },
   "outputs": [],
   "source": [
    "plot_psi4_alpha_ave(state,sep_QD_list[1],'bVOR',sep_QD_list[3])"
   ]
  },
  {
   "cell_type": "code",
   "execution_count": null,
   "metadata": {
    "collapsed": true,
    "hidden": true
   },
   "outputs": [],
   "source": []
  },
  {
   "cell_type": "markdown",
   "metadata": {
    "heading_collapsed": true,
    "hidden": true
   },
   "source": [
    "#### $|\\Psi_4^{vor}|$ histogram all datasets"
   ]
  },
  {
   "cell_type": "code",
   "execution_count": null,
   "metadata": {
    "collapsed": false,
    "hidden": true,
    "scrolled": true
   },
   "outputs": [],
   "source": [
    "retlist = []\n",
    "# for tdot in QD_list_tot:\n",
    "for tdot in sep_QD_list_tot[5]:\n",
    "    try:\n",
    "        psi = np.abs(tdot.psi4vor)\n",
    "        retlist.append(psi)\n",
    "    except AttributeError:\n",
    "        print(tdot.image, tdot.QD_index)\n",
    "    if psi < 0.4:\n",
    "        print(tdot.image, tdot.QD_index, psi)\n",
    "    \n",
    "num_bins = 49\n",
    "histo, bin_edges = np.histogram(retlist, bins = num_bins, range = (0,1))\n",
    "fig, ax = plt.subplots()\n",
    "plt.bar(bin_edges[:-1], histo, width = 1/num_bins)\n",
    "plt.xlim(min(bin_edges), max(bin_edges))\n",
    "# plt.show()   \n",
    "histo"
   ]
  },
  {
   "cell_type": "code",
   "execution_count": null,
   "metadata": {
    "collapsed": false,
    "hidden": true
   },
   "outputs": [],
   "source": [
    "tdot = s29.QD_list[363]\n",
    "orig_im = s29.orig_image\n",
    "(subimg,fft,r,subimg_wide) = s29.dot_fft(tdot, orig_im)\n",
    "s29.show_dot_fft(tdot,subimg,fft,r,subimg_wide, False)"
   ]
  },
  {
   "cell_type": "markdown",
   "metadata": {
    "heading_collapsed": true,
    "hidden": true
   },
   "source": [
    "####  $|\\beta^{vor}|$ histogram for all datasets"
   ]
  },
  {
   "cell_type": "markdown",
   "metadata": {
    "hidden": true
   },
   "source": [
    "I can use std now i think! cool. "
   ]
  },
  {
   "cell_type": "code",
   "execution_count": null,
   "metadata": {
    "collapsed": false,
    "hidden": true
   },
   "outputs": [],
   "source": [
    "retlist = []\n",
    "# for tdot in QD_list_tot:\n",
    "for tdot in sep_QD_list_tot[1]:\n",
    "# for tdot in sep_QD_list_29[1]:\n",
    "    beta_vor = get_alpha_arg(tdot,'vor')\n",
    "    if beta_vor != None:\n",
    "        if np.abs(beta_vor) < 20:\n",
    "            retlist.append(beta_vor)\n",
    "print('standard deviation: ', np.std(retlist))\n",
    "num_bins = 99\n",
    "histo, bin_edges = np.histogram(retlist, bins = num_bins, range = (-50,50))\n",
    "fig, ax = plt.subplots()\n",
    "plt.bar(bin_edges[:-1], histo, width = (49)/num_bins)\n",
    "plt.xlim(min(bin_edges), max(bin_edges))\n",
    "plt.show()   \n",
    "histo"
   ]
  },
  {
   "cell_type": "code",
   "execution_count": null,
   "metadata": {
    "collapsed": false,
    "hidden": true,
    "scrolled": true
   },
   "outputs": [],
   "source": [
    "# getting fwhm\n",
    "(np.argmax(histo < np.max(histo)/2) -np.argmax(histo))"
   ]
  },
  {
   "cell_type": "raw",
   "metadata": {
    "hidden": true
   },
   "source": []
  },
  {
   "cell_type": "markdown",
   "metadata": {
    "heading_collapsed": true,
    "hidden": true
   },
   "source": [
    "#### $|\\alpha^{\\alpha}|$ histograms all datasets"
   ]
  },
  {
   "cell_type": "code",
   "execution_count": null,
   "metadata": {
    "collapsed": false,
    "hidden": true
   },
   "outputs": [],
   "source": [
    "retlist = []\n",
    "# for tdot in QD_list_tot:\n",
    "for tdot in sep_QD_list_tot[3]:\n",
    "    alpha_alpha = tdot.ave_neighbor_alpha\n",
    "    if alpha_alpha: \n",
    "        if np.abs(alpha_alpha) < 10:  \n",
    "            retlist.append(alpha_alpha)\n",
    "            \n",
    "print('standard deviation: ', np.std(retlist))\n",
    "num_bins = 99\n",
    "histo, bin_edges = np.histogram(retlist, bins = num_bins, range = (-50,50))\n",
    "fig, ax = plt.subplots()\n",
    "plt.bar(bin_edges[:-1], histo, width = (49)/num_bins)\n",
    "plt.xlim(min(bin_edges), max(bin_edges))\n",
    "plt.show()   \n",
    "histo"
   ]
  },
  {
   "cell_type": "markdown",
   "metadata": {
    "hidden": true
   },
   "source": [
    "combining into one histogram"
   ]
  },
  {
   "cell_type": "code",
   "execution_count": null,
   "metadata": {
    "collapsed": false,
    "hidden": true
   },
   "outputs": [],
   "source": [
    "alist100 = []\n",
    "alist1n0 = []\n",
    "alist1nn = []\n",
    "for tdot in sep_QD_list_tot_g[3]:\n",
    "    alpha_alpha = tdot.ave_neighbor_alpha\n",
    "    if alpha_alpha: \n",
    "        if np.abs(alpha_alpha) < 10:  \n",
    "            alist100.append(alpha_alpha)\n",
    "for tdot in sep_QD_list_tot_g[1]:\n",
    "    alpha_alpha = tdot.ave_neighbor_alpha\n",
    "    if alpha_alpha: \n",
    "        if np.abs(alpha_alpha) < 10:  \n",
    "            alist1n0.append(alpha_alpha)\n",
    "for tdot in sep_QD_list_tot_g[2]:\n",
    "    alpha_alpha = tdot.ave_neighbor_alpha\n",
    "    if alpha_alpha: \n",
    "        if np.abs(alpha_alpha) < 10:  \n",
    "            alist1nn.append(alpha_alpha)        \n",
    "\n",
    "alpha_sep_list = [alist100, alist1n0, alist1nn]  \n",
    "fig,ax = plt.subplots()\n",
    "plt.xlabel(r'$|\\alpha^{\\langle \\alpha \\rangle}|$')\n",
    "plt.ylabel('counts')\n",
    "plt.hist(alpha_sep_list, 99, stacked=True, color = ['red','green','blue'],label = ['(100)','(1n0)','(1nn)'])\n",
    "ax.legend(prop={'size': 15})\n",
    "plt.savefig('./../../alpha_histo.png', dpi = 200, bbox_inches = 'tight')\n",
    "plt.show()"
   ]
  },
  {
   "cell_type": "code",
   "execution_count": null,
   "metadata": {
    "collapsed": true,
    "hidden": true
   },
   "outputs": [],
   "source": [
    "?plt.hist"
   ]
  },
  {
   "cell_type": "markdown",
   "metadata": {
    "heading_collapsed": true
   },
   "source": [
    "### number neighbors"
   ]
  },
  {
   "cell_type": "code",
   "execution_count": null,
   "metadata": {
    "collapsed": false,
    "hidden": true
   },
   "outputs": [],
   "source": [
    "neighbors_100 =[]\n",
    "neighbors_1n0 = []\n",
    "neighbors_1nn = []\n",
    "neighbors_1n1n = []\n",
    "neighbors_110 = []\n",
    "neighbors_amor = []\n",
    "for tdot in QD_list_tot:\n",
    "    num_neighbors = np.shape(tdot.neighborsKD)[0]\n",
    "    orientation = tdot.orientation[0]\n",
    "    if np.all(orientation == 'amorphous'):\n",
    "        neighbors_amor.append(num_neighbors)\n",
    "\n",
    "    elif np.all(orientation == '1n0'):\n",
    "        neighbors_1n0.append(num_neighbors)\n",
    "\n",
    "    elif np.all(orientation == '1nn'):\n",
    "        neighbors_1nn.append(num_neighbors)\n",
    "\n",
    "    elif np.all(orientation == '100'):\n",
    "        neighbors_100.append(num_neighbors)\n",
    "\n",
    "    elif np.all(orientation == '110'):\n",
    "        neighbors_110.append(num_neighbors)\n",
    "\n",
    "    elif np.all(orientation == '1,n+1,n'):\n",
    "        neighbors_1n1n.append(num_neighbors)\n"
   ]
  },
  {
   "cell_type": "code",
   "execution_count": null,
   "metadata": {
    "collapsed": false,
    "hidden": true
   },
   "outputs": [],
   "source": [
    "np.mean(neighbors_100)"
   ]
  },
  {
   "cell_type": "code",
   "execution_count": null,
   "metadata": {
    "collapsed": false,
    "hidden": true
   },
   "outputs": [],
   "source": [
    "np.mean(neighbors_110)"
   ]
  },
  {
   "cell_type": "code",
   "execution_count": null,
   "metadata": {
    "collapsed": false,
    "hidden": true
   },
   "outputs": [],
   "source": [
    "np.mean(neighbors_1n0)"
   ]
  },
  {
   "cell_type": "code",
   "execution_count": null,
   "metadata": {
    "collapsed": false,
    "hidden": true
   },
   "outputs": [],
   "source": [
    "np.mean(neighbors_1nn)"
   ]
  },
  {
   "cell_type": "code",
   "execution_count": null,
   "metadata": {
    "collapsed": false,
    "hidden": true
   },
   "outputs": [],
   "source": [
    "np.mean(neighbors_1n1n)"
   ]
  },
  {
   "cell_type": "code",
   "execution_count": null,
   "metadata": {
    "collapsed": false,
    "hidden": true
   },
   "outputs": [],
   "source": [
    "np.mean(neighbors_amor)"
   ]
  },
  {
   "cell_type": "code",
   "execution_count": null,
   "metadata": {
    "collapsed": true,
    "hidden": true
   },
   "outputs": [],
   "source": []
  },
  {
   "cell_type": "code",
   "execution_count": null,
   "metadata": {
    "collapsed": true,
    "hidden": true
   },
   "outputs": [],
   "source": []
  },
  {
   "cell_type": "code",
   "execution_count": null,
   "metadata": {
    "collapsed": true,
    "hidden": true
   },
   "outputs": [],
   "source": []
  },
  {
   "cell_type": "markdown",
   "metadata": {
    "heading_collapsed": true
   },
   "source": [
    "### fun colormaps"
   ]
  },
  {
   "cell_type": "code",
   "execution_count": null,
   "metadata": {
    "collapsed": true,
    "hidden": true
   },
   "outputs": [],
   "source": [
    "state = s29"
   ]
  },
  {
   "cell_type": "code",
   "execution_count": null,
   "metadata": {
    "collapsed": false,
    "hidden": true
   },
   "outputs": [],
   "source": [
    "show_psi4(state.QD_list,'vor',state.orig_image)"
   ]
  },
  {
   "cell_type": "code",
   "execution_count": null,
   "metadata": {
    "collapsed": false,
    "hidden": true
   },
   "outputs": [],
   "source": [
    "psi4_overlay(state.QD_list,'vor',state.orig_image)"
   ]
  },
  {
   "cell_type": "code",
   "execution_count": null,
   "metadata": {
    "collapsed": false,
    "hidden": true,
    "scrolled": true
   },
   "outputs": [],
   "source": [
    "show_neighbors_rad(s36.QD_list_crop,184,s36.orig_image)"
   ]
  },
  {
   "cell_type": "code",
   "execution_count": null,
   "metadata": {
    "collapsed": false,
    "hidden": true,
    "scrolled": true
   },
   "outputs": [],
   "source": [
    "alpha_vector_overlay(state.QD_list,state.orig_image)"
   ]
  },
  {
   "cell_type": "code",
   "execution_count": null,
   "metadata": {
    "collapsed": true,
    "hidden": true
   },
   "outputs": [],
   "source": [
    "show_im(state.orig_image)"
   ]
  },
  {
   "cell_type": "code",
   "execution_count": null,
   "metadata": {
    "collapsed": false,
    "hidden": true
   },
   "outputs": [],
   "source": [
    "show_alpha(s36.QD_list_crop,s36.orig_image,'alphaVOR','tag','abs','nosave',0,10)"
   ]
  },
  {
   "cell_type": "code",
   "execution_count": null,
   "metadata": {
    "collapsed": false,
    "hidden": true
   },
   "outputs": [],
   "source": [
    "show_alpha_neighbors(s29.QD_list,state.orig_image,'ave','tag','abs','nosave',0,10)"
   ]
  },
  {
   "cell_type": "code",
   "execution_count": null,
   "metadata": {
    "collapsed": true,
    "hidden": true
   },
   "outputs": [],
   "source": [
    "show_dif_aveL(state,state.QD_list_crop,'bVOR','nosave',10)"
   ]
  },
  {
   "cell_type": "markdown",
   "metadata": {
    "heading_collapsed": true
   },
   "source": [
    "### Psi6"
   ]
  },
  {
   "cell_type": "code",
   "execution_count": null,
   "metadata": {
    "collapsed": true,
    "hidden": true
   },
   "outputs": [],
   "source": [
    "def show_psi6(QD_list,kd_vor, im, tag = 'no_save', show = 'show'):\n",
    "\n",
    "    # gets magnitude of psi4 list, in list of x, list of y, list of psi4\n",
    "    N = np.shape(QD_list)[0]\n",
    "    x = np.zeros(N)\n",
    "    y = np.zeros(N)\n",
    "    psi6list = np.zeros(N)\n",
    "    i = 0\n",
    "    for dot in QD_list:\n",
    "        try:\n",
    "            psi6 = np.abs(dot.psi6vor)\n",
    "            psi4 = np.abs(dot.psi4vor)\n",
    "            x[i] = dot.cm[1]\n",
    "            y[i] = dot.cm[0]\n",
    "            dif = psi4 - psi6\n",
    "            rat = psi4/ (1-psi6)\n",
    "            if psi6 > psi4: \n",
    "                blah = psi6/psi4\n",
    "            else: \n",
    "                blah = psi4/psi6\n",
    "            psi6list[i] = dif\n",
    "            i += 1 \n",
    "        except TypeError:\n",
    "            pass\n",
    "\n",
    "    patches = []\n",
    "    for x1,y1,r in zip(x, y, psi6list):\n",
    "        circle = Circle((x1,y1), 50)\n",
    "        patches.append(circle)\n",
    "\n",
    "    fig = plt.figure()\n",
    "    ax = fig.add_subplot(111)\n",
    "    \n",
    "    shifted_cmap = shiftedColorMap(plt.cm.bwr, midpoint= 0.45, name='shifted_bwr')\n",
    "    p = PatchCollection(patches, cmap = 'shifted_bwr', alpha=0.9)\n",
    "    p.set_array(psi6list)\n",
    "    ax.add_collection(p)\n",
    "#     p.set_clim(-1,1)\n",
    "    cbar = fig.colorbar(p, extend = 'max')\n",
    "#     cbar.cmap.set_under('green', alpha = 0)\n",
    "    cbar.cmap.set_over('white')\n",
    "    plt.imshow(im, cmap = 'gray')\n",
    "\n",
    "    plt.show()"
   ]
  },
  {
   "cell_type": "code",
   "execution_count": null,
   "metadata": {
    "collapsed": false,
    "hidden": true
   },
   "outputs": [],
   "source": [
    "show_psi6(s29.QD_list_crop, 'vor', s29.orig_image)"
   ]
  },
  {
   "cell_type": "code",
   "execution_count": null,
   "metadata": {
    "collapsed": false,
    "hidden": true
   },
   "outputs": [],
   "source": [
    "show_psi6_orig(s16.QD_list_crop, 'vor', s16.orig_image)"
   ]
  },
  {
   "cell_type": "code",
   "execution_count": null,
   "metadata": {
    "collapsed": false,
    "hidden": true
   },
   "outputs": [],
   "source": [
    "show_psi4(s16.QD_list_crop, 'vor', s16.orig_image)"
   ]
  },
  {
   "cell_type": "code",
   "execution_count": null,
   "metadata": {
    "collapsed": false,
    "hidden": true
   },
   "outputs": [],
   "source": [
    "voronoi_color(s29.QD_list, s29.orig_image, mode = 'psi4Vor', save = False)"
   ]
  },
  {
   "cell_type": "code",
   "execution_count": null,
   "metadata": {
    "collapsed": false,
    "hidden": true
   },
   "outputs": [],
   "source": [
    "voronoi_color(s29.QD_list, s29.orig_image, mode = 'psi6Vor', save = False)"
   ]
  },
  {
   "cell_type": "markdown",
   "metadata": {
    "hidden": true
   },
   "source": [
    "plotting psi6 vs SL angle of 90"
   ]
  },
  {
   "cell_type": "code",
   "execution_count": null,
   "metadata": {
    "collapsed": false,
    "hidden": true
   },
   "outputs": [],
   "source": [
    "psi4list = []\n",
    "psi6list = []\n",
    "for tdot in s16.QD_list_crop:\n",
    "    try:\n",
    "        psi4list.append(np.abs(tdot.psi4vor))\n",
    "        psi6list.append(np.abs(tdot.psi6vor))\n",
    "    except TypeError: \n",
    "        pass \n",
    "\n",
    "print('psi4 ave: ', np.average(psi4list), '\\npsi6 ave: ', np.average(psi6list))"
   ]
  },
  {
   "cell_type": "code",
   "execution_count": null,
   "metadata": {
    "collapsed": false,
    "hidden": true
   },
   "outputs": [],
   "source": [
    "s53.QD_list[0].orientation[2][1] - s53.QD_list[0].orientation[2][0]"
   ]
  },
  {
   "cell_type": "code",
   "execution_count": null,
   "metadata": {
    "collapsed": false,
    "hidden": true
   },
   "outputs": [],
   "source": [
    "fig, ax = plt.subplots()\n",
    "SL_list = [ 9.35, 90-74.06, 90 - 78.49, 8.27, 90 - 85.11, 9.65]\n",
    "psi6_lst = [0.512, 0.57829, 0.5148, 0.488, 0.30647, 0.47513]\n",
    "psi4_lst = [0.6722, 0.50956, 0.602986, 0.6022, 0.783433, 0.66986]\n",
    "ax.scatter(SL_list, psi6_lst, s = 100, c = 'blue', alpha = 1, label = r'$|\\Psi_6|$')\n",
    "ax.scatter(SL_list, psi4_lst, s = 100, c = 'red', alpha = 1, label = r'$|\\Psi_4|$')\n",
    "plt.xlabel('Skewness of SL (degrees)')\n",
    "plt.ylabel('Magnitude')\n",
    "legend = ax.legend(loc='upper right')\n",
    "ax.set_xlim(0,20)\n",
    "ax.set_ylim(0,1)\n",
    "plt.show()"
   ]
  },
  {
   "cell_type": "markdown",
   "metadata": {
    "hidden": true
   },
   "source": [
    "plotting psi4 vs psi6"
   ]
  },
  {
   "cell_type": "code",
   "execution_count": null,
   "metadata": {
    "collapsed": false,
    "hidden": true
   },
   "outputs": [],
   "source": [
    "psilist = []\n",
    "for tdot in QD_list_tot_36:\n",
    "    try:\n",
    "        psi6 = np.abs(tdot.psi6vor)\n",
    "        psi4 = np.abs(tdot.psi4vor)\n",
    "        psilist.append((psi4, psi6))\n",
    "    except TypeError:\n",
    "        pass"
   ]
  },
  {
   "cell_type": "code",
   "execution_count": null,
   "metadata": {
    "collapsed": false,
    "hidden": true
   },
   "outputs": [],
   "source": [
    "fig, ax = plt.subplots()\n",
    "ax.scatter(psi4list, psi6list, c = 'blue', alpha = 1)\n",
    "ax.set_xlim(0,1)\n",
    "ax.set_ylim(0,1)\n",
    "plt.show()"
   ]
  },
  {
   "cell_type": "code",
   "execution_count": null,
   "metadata": {
    "collapsed": true,
    "hidden": true
   },
   "outputs": [],
   "source": [
    "def show_psi6_orig(QD_list,kd_vor, im, tag = 'no_save', show = 'show'):\n",
    "\n",
    "    # gets magnitude of psi4 list, in list of x, list of y, list of psi4\n",
    "    N = np.shape(QD_list)[0]\n",
    "    x = np.zeros(N)\n",
    "    y = np.zeros(N)\n",
    "    psi4list = np.zeros(N)\n",
    "    i = 0\n",
    "    if kd_vor == 'KD':\n",
    "        for dot in QD_list:\n",
    "            try:\n",
    "                psi4 = np.abs(dot.psi6kd)\n",
    "                x[i] = dot.cm[1]\n",
    "                y[i] = dot.cm[0]\n",
    "                psi4list[i] = psi4\n",
    "                i += 1 \n",
    "            except TypeError:\n",
    "                pass\n",
    "    elif kd_vor == 'vor':\n",
    "            for dot in QD_list:\n",
    "                try:\n",
    "                    psi4 = np.abs(dot.psi6vor)\n",
    "                    x[i] = dot.cm[1]\n",
    "                    y[i] = dot.cm[0]\n",
    "                    psi4list[i] = psi4\n",
    "                    i += 1 \n",
    "                except TypeError:\n",
    "                    pass\n",
    "    else:\n",
    "        return('Please input \"KD\" or \"vor\" to define which psi4 value you want.')\n",
    "    # turns off interactivity of matplotlib\n",
    "    if show != 'show':\n",
    "        plt.ioff()\n",
    "\n",
    "    patches = []\n",
    "    for x1,y1,r in zip(x, y, psi4list):\n",
    "        circle = Circle((x1,y1), 30)\n",
    "        patches.append(circle)\n",
    "\n",
    "    fig = plt.figure()\n",
    "    ax = fig.add_subplot(111)\n",
    "\n",
    "    p = PatchCollection(patches, cmap=matplotlib.cm.inferno, alpha=0.9)\n",
    "    p.set_array(psi4list)\n",
    "    ax.add_collection(p)\n",
    "    plt.colorbar(p)\n",
    "    plt.imshow(im, cmap = 'gray')\n",
    "\n",
    "    plt.show()"
   ]
  },
  {
   "cell_type": "markdown",
   "metadata": {
    "heading_collapsed": true
   },
   "source": [
    "### Voronoi neighbors"
   ]
  },
  {
   "cell_type": "code",
   "execution_count": null,
   "metadata": {
    "collapsed": true,
    "hidden": true
   },
   "outputs": [],
   "source": [
    "voronoi_neighbors(s53.QD_list)"
   ]
  },
  {
   "cell_type": "code",
   "execution_count": null,
   "metadata": {
    "collapsed": true,
    "hidden": true
   },
   "outputs": [],
   "source": [
    "distlist = []\n",
    "for tdot in s53.QD_list:\n",
    "    cm1 = tdot.cm\n",
    "    for neighbor in tdot.neighborsvor:\n",
    "        cm2 = s53.QD_list[neighbor].cm\n",
    "        dist = ((cm1[0] - cm2[0])**2 + (cm1[1] - cm2[1])**2 )**.5\n",
    "        distlist.append(dist)"
   ]
  },
  {
   "cell_type": "code",
   "execution_count": null,
   "metadata": {
    "collapsed": true,
    "hidden": true
   },
   "outputs": [],
   "source": [
    "get_histo(distlist, 120,300, 75)"
   ]
  },
  {
   "cell_type": "code",
   "execution_count": null,
   "metadata": {
    "collapsed": false,
    "hidden": true
   },
   "outputs": [],
   "source": [
    "np.average(distlist)"
   ]
  },
  {
   "cell_type": "markdown",
   "metadata": {
    "hidden": true
   },
   "source": [
    "so 155 is the s29 qd index for the bad example dot in figure 2"
   ]
  },
  {
   "cell_type": "code",
   "execution_count": null,
   "metadata": {
    "collapsed": true,
    "hidden": true
   },
   "outputs": [],
   "source": [
    "distlist = []\n",
    "cm1 = s29.QD_list[155].cm\n",
    "tdot = s29.QD_list[155]\n",
    "for neighbor in tdot.neighborsvor:\n",
    "    cm2 = s29.QD_list[neighbor].cm\n",
    "    dist = ((cm1[0] - cm2[0])**2 + (cm1[1] - cm2[1])**2 )**.5\n",
    "    distlist.append(dist)"
   ]
  },
  {
   "cell_type": "code",
   "execution_count": null,
   "metadata": {
    "collapsed": true,
    "hidden": true
   },
   "outputs": [],
   "source": [
    "distlist"
   ]
  },
  {
   "cell_type": "code",
   "execution_count": null,
   "metadata": {
    "collapsed": false,
    "hidden": true
   },
   "outputs": [],
   "source": [
    "np.average(distlist)"
   ]
  },
  {
   "cell_type": "markdown",
   "metadata": {
    "heading_collapsed": true
   },
   "source": [
    "### Strain stuff"
   ]
  },
  {
   "cell_type": "markdown",
   "metadata": {
    "hidden": true
   },
   "source": [
    "needs to take the list of voronoi_neighbors and get their distances weighted by edge length fo the voronoi cell. For now just have it be a scalar value "
   ]
  },
  {
   "cell_type": "code",
   "execution_count": null,
   "metadata": {
    "collapsed": true,
    "hidden": true
   },
   "outputs": [],
   "source": [
    "get_strain(s29.QD_list)"
   ]
  },
  {
   "cell_type": "code",
   "execution_count": null,
   "metadata": {
    "collapsed": false,
    "hidden": true
   },
   "outputs": [],
   "source": [
    "s29.QD_list[252].strain"
   ]
  },
  {
   "cell_type": "code",
   "execution_count": null,
   "metadata": {
    "collapsed": true,
    "hidden": true
   },
   "outputs": [],
   "source": [
    "show_strain(s29.QD_list, s29.orig_image)"
   ]
  },
  {
   "cell_type": "code",
   "execution_count": null,
   "metadata": {
    "collapsed": false,
    "hidden": true
   },
   "outputs": [],
   "source": [
    "voronoi_neighbors(s36.QD_list)"
   ]
  },
  {
   "cell_type": "code",
   "execution_count": null,
   "metadata": {
    "collapsed": false,
    "hidden": true
   },
   "outputs": [],
   "source": [
    "get_strain(s36.QD_list)"
   ]
  },
  {
   "cell_type": "code",
   "execution_count": null,
   "metadata": {
    "collapsed": false,
    "hidden": true
   },
   "outputs": [],
   "source": [
    "show_strain(s36.QD_list, s36.orig_image)"
   ]
  },
  {
   "cell_type": "markdown",
   "metadata": {
    "heading_collapsed": true
   },
   "source": [
    "### angular correlation function "
   ]
  },
  {
   "cell_type": "markdown",
   "metadata": {
    "hidden": true
   },
   "source": [
    "few ways to do this:  \n",
    "- Get a colormap, defined by voronoi cells, colored with the orientation of the QD relative to the dot of interest. Expanding radially outward from that dot, integrate over the misorientations from that dot and normalize. Probably finding that as you get further away, the misalignment from the dot increases.  \n",
    "    - make it so the outside and dots without orientations arent counted/dont adversely affect\n",
    "    - normalization might be tricky\n",
    "    - actually integrating even might be hardish \n",
    "    - this weights it so dots with large voronoi cells are more important which isnt exactly true. \n",
    "    - that could be avoided too, all weighted the same, if i had a way of doing the \"null\" not counted area\n",
    "   "
   ]
  },
  {
   "cell_type": "markdown",
   "metadata": {
    "heading_collapsed": true
   },
   "source": [
    "### Comparing psi4s"
   ]
  },
  {
   "cell_type": "code",
   "execution_count": null,
   "metadata": {
    "collapsed": false,
    "hidden": true
   },
   "outputs": [],
   "source": [
    "for tdot in s29.QD_list_crop:\n",
    "    get_psi4_neighbors(tdot, s29.QD_list)"
   ]
  },
  {
   "cell_type": "code",
   "execution_count": null,
   "metadata": {
    "collapsed": false,
    "hidden": true
   },
   "outputs": [],
   "source": [
    "s29.QD_list[141].ave_neighbor_psi4"
   ]
  },
  {
   "cell_type": "code",
   "execution_count": null,
   "metadata": {
    "collapsed": false,
    "hidden": true
   },
   "outputs": [],
   "source": [
    "def show_psi4_neighbors(QD_list, orig_image):\n",
    "    \"\"\"\n",
    "\n",
    "    \"\"\"\n",
    "    N = np.shape(QD_list)[0]\n",
    "    x = np.zeros(N)\n",
    "    y = np.zeros(N)\n",
    "    alphalist = np.zeros(N)\n",
    "    i = 0\n",
    "    for dot in QD_list:\n",
    "        try:\n",
    "            alpha = dot.ave_neighbor_psi4\n",
    "            x[i] = dot.cm[1]\n",
    "            y[i] = dot.cm[0]\n",
    "            alphalist[i] = np.abs(alpha) \n",
    "        except TypeError:\n",
    "            pass\n",
    "        i+=1\n",
    "\n",
    "    patches = []\n",
    "    for x1,y1,r in zip(x, y, alphalist):\n",
    "        circle = Circle((x1,y1), 30)\n",
    "        patches.append(circle)\n",
    "\n",
    "    fig = plt.figure()\n",
    "    ax = fig.add_subplot(111)\n",
    "    \n",
    "    shifted_cmap = shiftedColorMap(plt.cm.inferno, midpoint=0.2, name='shifted_inf')\n",
    "    p = PatchCollection(patches, cmap = 'inferno', alpha=0.9)\n",
    "    p.set_array(alphalist)\n",
    "    ax.add_collection(p)\n",
    "    cbar = fig.colorbar(p, extend = 'max')\n",
    "    p.set_clim(0,15)\n",
    "#     cbar.cmap.set_under('green', alpha = 0)\n",
    "    cbar.cmap.set_over('white')\n",
    "    plt.imshow(orig_image, cmap = 'gray')\n",
    "    plt.show()"
   ]
  },
  {
   "cell_type": "code",
   "execution_count": null,
   "metadata": {
    "collapsed": true,
    "hidden": true
   },
   "outputs": [],
   "source": [
    "show_psi4_neighbors(s36.QD_list_crop, s36.orig_image)"
   ]
  },
  {
   "cell_type": "code",
   "execution_count": null,
   "metadata": {
    "collapsed": false,
    "hidden": true
   },
   "outputs": [],
   "source": [
    "psi4_overlay(s36.QD_list,'vor',s36.orig_image, save = False, show_vor = True)"
   ]
  },
  {
   "cell_type": "code",
   "execution_count": null,
   "metadata": {
    "collapsed": false,
    "hidden": true
   },
   "outputs": [],
   "source": [
    "voronoi_color(s36.QD_list_crop, s36.orig_image, mode = 'psi4_alpha')"
   ]
  },
  {
   "cell_type": "code",
   "execution_count": null,
   "metadata": {
    "collapsed": true,
    "hidden": true
   },
   "outputs": [],
   "source": []
  },
  {
   "cell_type": "markdown",
   "metadata": {
    "heading_collapsed": true
   },
   "source": [
    "# Mansucript Figures and M&M"
   ]
  },
  {
   "cell_type": "markdown",
   "metadata": {
    "heading_collapsed": true,
    "hidden": true
   },
   "source": [
    "## Figure 1"
   ]
  },
  {
   "cell_type": "markdown",
   "metadata": {
    "hidden": true
   },
   "source": [
    "possibly change this one out for the old one? "
   ]
  },
  {
   "cell_type": "code",
   "execution_count": null,
   "metadata": {
    "collapsed": false,
    "hidden": true,
    "scrolled": true
   },
   "outputs": [],
   "source": [
    "alpha_vector_overlay(s29.QD_list_crop, s29.orig_image, save = True)"
   ]
  },
  {
   "cell_type": "code",
   "execution_count": null,
   "metadata": {
    "collapsed": false,
    "hidden": true
   },
   "outputs": [],
   "source": [
    "a = np.array([4,5,6])\n",
    "b = np.array([6,5,4])\n",
    "a + b"
   ]
  },
  {
   "cell_type": "markdown",
   "metadata": {
    "heading_collapsed": true,
    "hidden": true
   },
   "source": [
    "## Figure 2"
   ]
  },
  {
   "cell_type": "code",
   "execution_count": null,
   "metadata": {
    "collapsed": false,
    "hidden": true
   },
   "outputs": [],
   "source": [
    "voronoi_color(s45.QD_list, s45.orig_image, mode = 'psi4Vor', save = False)"
   ]
  },
  {
   "cell_type": "markdown",
   "metadata": {
    "hidden": true
   },
   "source": [
    "Getting the colored histogram"
   ]
  },
  {
   "cell_type": "code",
   "execution_count": null,
   "metadata": {
    "collapsed": false,
    "hidden": true,
    "scrolled": true
   },
   "outputs": [],
   "source": [
    "psi4list = []\n",
    "psi6list = []\n",
    "for tdot in s29.QD_list: \n",
    "    if tdot.psi4vor is not None: \n",
    "        psi4list.append(np.abs(tdot.psi4vor))\n",
    "        psi6list.append(np.abs(tdot.psi6vor))\n",
    "        \n",
    "for tdot in s36.QD_list: \n",
    "    if tdot.psi4vor is not None: \n",
    "        psi4list.append(np.abs(tdot.psi4vor))\n",
    "        psi6list.append(np.abs(tdot.psi6vor))\n",
    "        \n",
    "for tdot in s45.QD_list: \n",
    "    if tdot.psi4vor is not None: \n",
    "        psi4list.append(np.abs(tdot.psi4vor))\n",
    "        psi6list.append(np.abs(tdot.psi6vor))\n",
    "        \n",
    "for tdot in s53.QD_list: \n",
    "    if tdot.psi4vor is not None: \n",
    "        psi4list.append(np.abs(tdot.psi4vor))\n",
    "        psi6list.append(np.abs(tdot.psi6vor))\n",
    "        \n",
    "fig, ax = plt.subplots()\n",
    "cm = matplotlib.cm.inferno\n",
    "\n",
    "# Plot histogram.\n",
    "weights = np.ones_like(psi4list)/float(len(psi4list))\n",
    "# plt.hist(myarray, weights=weights)\n",
    "n, bins, patches = ax.hist(psi4list, 40, weights = weights, color='green')\n",
    "for c, p in zip(bins, patches):\n",
    "    plt.setp(p, 'facecolor', cm(c))\n",
    "\n",
    "output_path = \"../presentables/Figures/manuscript/figure_2/\" \n",
    "file_name = 'all_ims_psi4_histo_color'\n",
    "# plt.savefig(output_path + file_name + '.png' ,dpi=1000,bbox_inches='tight') \n",
    "    \n",
    "plt.show()"
   ]
  },
  {
   "cell_type": "code",
   "execution_count": null,
   "metadata": {
    "collapsed": false,
    "hidden": true
   },
   "outputs": [],
   "source": [
    "psi4list = []\n",
    "for tdot in QD_list_tot_36: \n",
    "    if tdot.psi4vor is not None: \n",
    "        psi4list.append(np.abs(tdot.psi4vor))\n",
    "print(np.shape(psi4list))\n",
    "fig, ax = plt.subplots()\n",
    "cm = matplotlib.cm.inferno\n",
    "\n",
    "# Plot histogram.\n",
    "weights = np.ones_like(psi4list)/float(len(psi4list))\n",
    "# plt.hist(myarray, weights=weights)\n",
    "n, bins, patches = ax.hist(psi4list, 40, weights = weights, color='green')\n",
    "for c, p in zip(bins, patches):\n",
    "    plt.setp(p, 'facecolor', cm(c))\n",
    "\n",
    "output_path = \"../presentables/Figures/manuscript/figure_2/\" \n",
    "file_name = 'all_ims_psi4_histo_color'\n",
    "# plt.savefig(output_path + file_name + '.png' ,dpi=1000,bbox_inches='tight') \n",
    "    \n",
    "plt.show()"
   ]
  },
  {
   "cell_type": "code",
   "execution_count": null,
   "metadata": {
    "collapsed": false,
    "hidden": true
   },
   "outputs": [],
   "source": [
    "for tdot in s45.QD_list:\n",
    "    if tdot.cm[0] > 1500 and tdot.cm[0] < 1700 and tdot.cm[1] > 1200 and tdot.cm[1] < 1400:\n",
    "        print(tdot.cm)\n",
    "        print(np.abs(tdot.psi4vor))"
   ]
  },
  {
   "cell_type": "code",
   "execution_count": null,
   "metadata": {
    "collapsed": true,
    "hidden": true
   },
   "outputs": [],
   "source": [
    "amin = [180]\n",
    "amax = [0]\n",
    "QD_min = 0\n",
    "QD_max = 0\n",
    "for tdot in s45.QD_list_crop:\n",
    "    if tdot.orientation[1]: \n",
    "        print(tdot.orientation[1][0])\n",
    "        th = tdot.orientation[1][0]\n",
    "        if th < amin[-1]: \n",
    "            amin.append(th)\n",
    "            QD_min = tdot.QD_index\n",
    "        if th > amax[-1]: \n",
    "            amax.append(th)\n",
    "            QD_max = tdot.QD_index            \n",
    "print('amin: ', amin, '\\namax: ', amax)"
   ]
  },
  {
   "cell_type": "code",
   "execution_count": null,
   "metadata": {
    "collapsed": false,
    "hidden": true
   },
   "outputs": [],
   "source": [
    "print('amin: ', amin, QD_min, '\\namax: ', amax, QD_max)"
   ]
  },
  {
   "cell_type": "code",
   "execution_count": null,
   "metadata": {
    "collapsed": false,
    "hidden": true
   },
   "outputs": [],
   "source": [
    "print(np.abs(s45.QD_list[QD_min].psi4vor), np.abs(s45.QD_list[QD_max].psi4vor))"
   ]
  },
  {
   "cell_type": "markdown",
   "metadata": {
    "heading_collapsed": true,
    "hidden": true
   },
   "source": [
    "## Figure 3"
   ]
  },
  {
   "cell_type": "markdown",
   "metadata": {
    "hidden": true
   },
   "source": [
    "preferential alignment plot"
   ]
  },
  {
   "cell_type": "code",
   "execution_count": null,
   "metadata": {
    "collapsed": true,
    "hidden": true
   },
   "outputs": [],
   "source": [
    "alpha = 0.06\n",
    "linewidth = 0.6\n",
    "from sklearn import mixture\n",
    "from matplotlib.colors import LogNorm\n",
    "from matplotlib.patches import Ellipse\n",
    "# plt.close('all')\n",
    "fitlist = plot_alpha_vs_mpsi(QD_list_tot,'alpha_alpha','abs');\n",
    "\n",
    "for alpha in np.arange(0.05, 0.08, 0.01): \n",
    "    for linewidth in np.arange(0.5, 0.77, 0.1):\n",
    "        x = fitlist[:,0]\n",
    "        y = fitlist[:,1]\n",
    "        cov = np.cov(x, y)\n",
    "        print('cov: ', cov)\n",
    "        lambda_, v = np.linalg.eig(cov)\n",
    "        lambda_ = np.sqrt(lambda_)\n",
    "        print('lambda: ', lambda_)\n",
    "        cpx = np.mean(x)\n",
    "        cpy = np.mean(y)\n",
    "        fig = plt.figure()\n",
    "        ax = plt.subplot(111, aspect='equal')\n",
    "        for j in range(1, 4):\n",
    "            ell = Ellipse(xy=(cpx, cpy),\n",
    "                          width=lambda_[0]*j*2, height=lambda_[1]*j*2,\n",
    "                          angle=np.rad2deg(np.arccos(v[0, 0])), edgecolor = 'black', linewidth = linewidth)\n",
    "            ell.set_facecolor('none')\n",
    "            ax.add_artist(ell)\n",
    "\n",
    "        theta = 12.98 * np.pi / 180\n",
    "        llength = 15\n",
    "        xl = [cpx - llength * np.cos(theta), cpx + llength * np.cos(theta)]\n",
    "        yl = [cpy - llength * np.sin(theta), cpy + llength * np.sin(theta)]\n",
    "        # plt.plot(xl, yl, '-', c = 'black', linewidth = 2)\n",
    "\n",
    "        plt.scatter(x, y, c = 'red', s = 100, alpha = alpha)\n",
    "        ax.set_xlabel(r'$\\alpha_{\\psi4 \\hspace{.5} \\mathrm{(degrees)}}$', fontsize = 30)#, position = (.65,1))\n",
    "        ax.set_ylabel(r'$\\alpha_{n  \\hspace{.5} \\mathrm{(degrees)}}$', fontsize = 30)#,  position = (.5,.65))\n",
    "        ax.set_xticklabels(np.arange(-20,25,5), fontsize = 15)\n",
    "        ax.set_yticklabels(np.arange(-15,20,5), fontsize = 15)\n",
    "        ax.xaxis.labelpad = 0\n",
    "        ax.yaxis.labelpad = -5\n",
    "        plt.savefig('/Users/arthur/Desktop/Arthur/presentables/QD_manuscript/figure_3/f3_pref_align_a' + str(alpha) + '_l' + str(linewidth) + '.png', dpi = 300)\n",
    "        # plt.show()\n"
   ]
  },
  {
   "cell_type": "markdown",
   "metadata": {
    "hidden": true
   },
   "source": [
    "diagonalizing the matrix gives:  \n",
    "16.0661  0  \n",
    "0        3.62387  \n",
    "  \n",
    "eigenvectors:  \n",
    "(4.33875  \n",
    "1)  \n",
    "\n",
    "(-1  \n",
    "4.33875)\n",
    "  \n",
    "meaning an orientation of atan(1/4.33875) = 12.98 degrees  \n",
    "\n"
   ]
  },
  {
   "cell_type": "code",
   "execution_count": null,
   "metadata": {
    "collapsed": false,
    "hidden": true
   },
   "outputs": [],
   "source": [
    "np.arange?"
   ]
  },
  {
   "cell_type": "code",
   "execution_count": null,
   "metadata": {
    "collapsed": false,
    "hidden": true
   },
   "outputs": [],
   "source": [
    "A = np.array([[15.44463841, 2.72442075], [2.72442075, 4.25194153]])\n",
    "th_range = np.arange(0,np.pi, 0.05)\n",
    "o1 = A[0,1]\n",
    "o2 = A[1,0]\n",
    "\n",
    "for x in th_range: \n",
    "    R = np.array([[np.cos(x), -np.sin(x)], [np.sin(x), np.cos(x)]])\n",
    "    M = np.dot(A, R)\n",
    "    print(180 * x / np.pi, '\\n', M, '\\n' )"
   ]
  },
  {
   "cell_type": "code",
   "execution_count": null,
   "metadata": {
    "collapsed": false,
    "hidden": true,
    "scrolled": true
   },
   "outputs": [],
   "source": [
    "np.sqrt(16.0661)"
   ]
  },
  {
   "cell_type": "code",
   "execution_count": null,
   "metadata": {
    "collapsed": false,
    "hidden": true
   },
   "outputs": [],
   "source": [
    "np.sqrt(3.62387)"
   ]
  },
  {
   "cell_type": "code",
   "execution_count": null,
   "metadata": {
    "collapsed": false,
    "hidden": true
   },
   "outputs": [],
   "source": [
    "((15.44**2 + 2.724**2)**.5) **.5"
   ]
  },
  {
   "cell_type": "code",
   "execution_count": null,
   "metadata": {
    "collapsed": false,
    "hidden": true
   },
   "outputs": [],
   "source": [
    "((4.25**2 + 2.724**2)**.5) **.5"
   ]
  },
  {
   "cell_type": "code",
   "execution_count": null,
   "metadata": {
    "collapsed": false,
    "hidden": true
   },
   "outputs": [],
   "source": [
    "np.sqrt(4.25)"
   ]
  },
  {
   "cell_type": "code",
   "execution_count": null,
   "metadata": {
    "collapsed": false,
    "hidden": true,
    "scrolled": true
   },
   "outputs": [],
   "source": [
    "clf.get_params()"
   ]
  },
  {
   "cell_type": "markdown",
   "metadata": {
    "hidden": true
   },
   "source": [
    "mixture model"
   ]
  },
  {
   "cell_type": "code",
   "execution_count": null,
   "metadata": {
    "collapsed": true,
    "hidden": true
   },
   "outputs": [],
   "source": []
  },
  {
   "cell_type": "markdown",
   "metadata": {
    "hidden": true
   },
   "source": [
    "colormaps of psi4 and psi6 and difference"
   ]
  },
  {
   "cell_type": "code",
   "execution_count": null,
   "metadata": {
    "collapsed": false,
    "hidden": true
   },
   "outputs": [],
   "source": [
    "voronoi_fill(s29.QD_list, s29.orig_image, mode = 'psi4Vor', save = False)"
   ]
  },
  {
   "cell_type": "code",
   "execution_count": null,
   "metadata": {
    "collapsed": false,
    "hidden": true
   },
   "outputs": [],
   "source": [
    "voronoi_fill(s29.QD_list, s29.orig_image, mode = 'psi6Vor', save = False)"
   ]
  },
  {
   "cell_type": "code",
   "execution_count": null,
   "metadata": {
    "collapsed": false,
    "hidden": true
   },
   "outputs": [],
   "source": [
    "for tdot in s29.QD_list:\n",
    "    get_psi4_neighbors(tdot, s29.QD_list)"
   ]
  },
  {
   "cell_type": "code",
   "execution_count": null,
   "metadata": {
    "collapsed": false,
    "hidden": true
   },
   "outputs": [],
   "source": [
    "voronoi_fill(s29.QD_list, s29.orig_image, mode = 'alpha_N', save = False)"
   ]
  },
  {
   "cell_type": "markdown",
   "metadata": {
    "hidden": true
   },
   "source": [
    "relationship between psi4 and psi6"
   ]
  },
  {
   "cell_type": "code",
   "execution_count": null,
   "metadata": {
    "collapsed": false,
    "hidden": true
   },
   "outputs": [],
   "source": [
    "psilist = []\n",
    "for tdot in QD_list_tot:\n",
    "    try:\n",
    "        psi6 = np.abs(tdot.psi6vor)\n",
    "        psi4 = np.abs(tdot.psi4vor)\n",
    "        psilist.append((psi4, psi6))\n",
    "    except TypeError:\n",
    "        pass\n",
    "    \n",
    "psilist = np.array(sorted(psilist, key=lambda x: x[0]))"
   ]
  },
  {
   "cell_type": "code",
   "execution_count": null,
   "metadata": {
    "collapsed": false,
    "hidden": true
   },
   "outputs": [],
   "source": [
    "x = np.arange(0,np.shape(psilist)[0])\n",
    "psi4list = psilist[:,0]\n",
    "psi6list = psilist[:,1]"
   ]
  },
  {
   "cell_type": "code",
   "execution_count": null,
   "metadata": {
    "collapsed": false,
    "hidden": true
   },
   "outputs": [],
   "source": [
    "fig, ax = plt.subplots()\n",
    "ax.scatter(psi4list, psi6list, s = 80, c = 'blue', alpha = 0.2)\n",
    "ax.set_xlim(0,1)\n",
    "ax.set_ylim(0,1)\n",
    "ax.set_ylabel(r'$\\Psi_6$')\n",
    "ax.set_xlabel(r'$\\Psi_4$')\n",
    "ax.set_aspect(1)\n",
    "ax.yaxis.tick_right()\n",
    "plt.savefig('/Users/arthur/Desktop/Arthur/presentables/m&m_2017/poster/images/psi4_vs_psi6.png', dpi = 400, bbox_inches = 'tight')\n",
    "plt.show()"
   ]
  },
  {
   "cell_type": "code",
   "execution_count": null,
   "metadata": {
    "collapsed": true,
    "hidden": true
   },
   "outputs": [],
   "source": []
  },
  {
   "cell_type": "markdown",
   "metadata": {
    "hidden": true
   },
   "source": [
    "plotting psi6 vs SL angle off 90"
   ]
  },
  {
   "cell_type": "code",
   "execution_count": null,
   "metadata": {
    "collapsed": false,
    "hidden": true
   },
   "outputs": [],
   "source": [
    "psi4list = []\n",
    "psi6list = []\n",
    "for tdot in s16.QD_list_crop:\n",
    "    try:\n",
    "        psi4list.append(np.abs(tdot.psi4vor))\n",
    "        psi6list.append(np.abs(tdot.psi6vor))\n",
    "    except TypeError: \n",
    "        pass \n",
    "\n",
    "print('psi4 ave: ', np.average(psi4list), '\\npsi6 ave: ', np.average(psi6list))"
   ]
  },
  {
   "cell_type": "code",
   "execution_count": null,
   "metadata": {
    "collapsed": false,
    "hidden": true
   },
   "outputs": [],
   "source": [
    "s16.QD_list[0].orientation[2][1] - s16.QD_list[0].orientation[2][0]"
   ]
  },
  {
   "cell_type": "code",
   "execution_count": null,
   "metadata": {
    "collapsed": false,
    "hidden": true
   },
   "outputs": [],
   "source": [
    "fig, ax = plt.subplots()\n",
    "SL_list = [ 9.35, 90-74.06, 90 - 78.49, 8.27, 90 - 85.11, 9.65]\n",
    "psi6_lst = [0.512, 0.57829, 0.5148, 0.488, 0.30647, 0.47513]\n",
    "psi4_lst = [0.6722, 0.50956, 0.602986, 0.6022, 0.783433, 0.66986]\n",
    "ax.scatter(SL_list, psi6_lst, s = 100, c = 'blue', alpha = 1, label = r'$|\\Psi_6|$')\n",
    "ax.scatter(SL_list, psi4_lst, s = 100, c = 'red', alpha = 1, label = r'$|\\Psi_4|$')\n",
    "plt.xlabel('Skewness of SL (degrees)')\n",
    "plt.ylabel('Magnitude')\n",
    "legend = ax.legend(loc='upper right')\n",
    "ax.set_xlim(0,20)\n",
    "ax.set_ylim(0,1)\n",
    "plt.show()"
   ]
  },
  {
   "cell_type": "code",
   "execution_count": null,
   "metadata": {
    "collapsed": false,
    "hidden": true
   },
   "outputs": [],
   "source": [
    "a = [5,4,5,6,6,4,5,5]\n",
    "np.std(a)"
   ]
  },
  {
   "cell_type": "markdown",
   "metadata": {
    "hidden": true
   },
   "source": [
    "something to do with strain. Currently it's distance to neighbors weighted with voronoi cells  \n",
    "or just get area of Voronoi cell"
   ]
  },
  {
   "cell_type": "code",
   "execution_count": null,
   "metadata": {
    "collapsed": true,
    "hidden": true
   },
   "outputs": [],
   "source": [
    "get_strain(s45.QD_list)"
   ]
  },
  {
   "cell_type": "code",
   "execution_count": null,
   "metadata": {
    "collapsed": true,
    "hidden": true
   },
   "outputs": [],
   "source": [
    "show_strain(s45.QD_list, s45.orig_image)"
   ]
  },
  {
   "cell_type": "code",
   "execution_count": null,
   "metadata": {
    "collapsed": false,
    "hidden": true
   },
   "outputs": [],
   "source": [
    "get_strain(s53.QD_list)"
   ]
  },
  {
   "cell_type": "code",
   "execution_count": null,
   "metadata": {
    "collapsed": false,
    "hidden": true
   },
   "outputs": [],
   "source": [
    "show_strain(s53.QD_list, s53.orig_image)"
   ]
  },
  {
   "cell_type": "code",
   "execution_count": null,
   "metadata": {
    "collapsed": false,
    "hidden": true
   },
   "outputs": [],
   "source": [
    "get_strain(s29.QD_list)"
   ]
  },
  {
   "cell_type": "code",
   "execution_count": null,
   "metadata": {
    "collapsed": false,
    "hidden": true
   },
   "outputs": [],
   "source": [
    "show_strain(s29.QD_list, s29.orig_image)"
   ]
  },
  {
   "cell_type": "code",
   "execution_count": null,
   "metadata": {
    "collapsed": false,
    "hidden": true
   },
   "outputs": [],
   "source": [
    "lst = []\n",
    "for dot in s45.QD_list_crop:\n",
    "    if dot.strain is not None: \n",
    "        lst.append(dot.strain)\n",
    "np.average(lst) * (160/4096)**2"
   ]
  },
  {
   "cell_type": "code",
   "execution_count": null,
   "metadata": {
    "collapsed": false,
    "hidden": true
   },
   "outputs": [],
   "source": [
    "lst = []\n",
    "for dot in s53.QD_list_crop:\n",
    "    if dot.strain is not None: \n",
    "        lst.append(dot.strain)\n",
    "np.average(lst) * (160/4096)**2"
   ]
  },
  {
   "cell_type": "code",
   "execution_count": null,
   "metadata": {
    "collapsed": false,
    "hidden": true,
    "scrolled": true
   },
   "outputs": [],
   "source": [
    "lst = []\n",
    "for i in range(6): \n",
    "    lst = []\n",
    "    for dot in sep_QD_list_53[i]:\n",
    "        if dot.strain is not None: \n",
    "            lst.append(dot.strain)\n",
    "    print(i, np.size(sep_QD_list_53[i]),np.average(lst) * (160/4096)**2)"
   ]
  },
  {
   "cell_type": "code",
   "execution_count": null,
   "metadata": {
    "collapsed": false,
    "hidden": true
   },
   "outputs": [],
   "source": [
    "lst = []\n",
    "for i in range(6): \n",
    "    lst = []\n",
    "    for dot in sep_QD_list_45[i]:\n",
    "        if dot.strain is not None: \n",
    "            lst.append(dot.strain)\n",
    "    print(i, np.size(sep_QD_list_45[i]), np.average(lst) * (160/4096)**2)"
   ]
  },
  {
   "cell_type": "code",
   "execution_count": null,
   "metadata": {
    "collapsed": false,
    "hidden": true
   },
   "outputs": [],
   "source": [
    "voronoi_neighbors(s45.QD_list)"
   ]
  },
  {
   "cell_type": "code",
   "execution_count": null,
   "metadata": {
    "code_folding": [],
    "collapsed": false,
    "hidden": true
   },
   "outputs": [],
   "source": [
    "get_strain(s45.QD_list)"
   ]
  },
  {
   "cell_type": "code",
   "execution_count": null,
   "metadata": {
    "collapsed": false,
    "hidden": true
   },
   "outputs": [],
   "source": [
    "show_strain(s45.QD_list, s45.orig_image)"
   ]
  },
  {
   "cell_type": "markdown",
   "metadata": {
    "hidden": true
   },
   "source": [
    "mag psi4 vs vor cell size"
   ]
  },
  {
   "cell_type": "code",
   "execution_count": null,
   "metadata": {
    "collapsed": true,
    "hidden": true
   },
   "outputs": [],
   "source": [
    "psilst = []\n",
    "sizelst = []"
   ]
  },
  {
   "cell_type": "code",
   "execution_count": null,
   "metadata": {
    "collapsed": true,
    "hidden": true
   },
   "outputs": [],
   "source": [
    "psilst2 = []\n",
    "sizelst2 = []\n",
    "for tdot in s53.QD_list:\n",
    "    if tdot.psi4vor is not None: \n",
    "        psilst.append(np.abs(tdot.psi4vor))\n",
    "        sizelst.append(tdot.vor_area)\n",
    "        psilst2.append(np.abs(tdot.psi4vor))\n",
    "        sizelst2.append(tdot.vor_area)"
   ]
  },
  {
   "cell_type": "code",
   "execution_count": null,
   "metadata": {
    "collapsed": false,
    "hidden": true
   },
   "outputs": [],
   "source": [
    "fig, ax = plt.subplots()\n",
    "ax.scatter(psilst, sizelst)\n",
    "ax.set_ylim(0,80000)\n",
    "plt.show()"
   ]
  },
  {
   "cell_type": "code",
   "execution_count": null,
   "metadata": {
    "collapsed": false,
    "hidden": true
   },
   "outputs": [],
   "source": [
    "fig, ax = plt.subplots()\n",
    "ax.scatter(psilst2, sizelst2)\n",
    "ax.set_ylim(0,80000)\n",
    "plt.show()"
   ]
  },
  {
   "cell_type": "code",
   "execution_count": null,
   "metadata": {
    "collapsed": true,
    "hidden": true
   },
   "outputs": [],
   "source": [
    "get_histo(sizelst, 0, 60000, 100)"
   ]
  },
  {
   "cell_type": "markdown",
   "metadata": {
    "hidden": true
   },
   "source": [
    "area of voronoi cell. S53 IS AN OUTLIER FUCK IT"
   ]
  },
  {
   "cell_type": "code",
   "execution_count": null,
   "metadata": {
    "collapsed": false,
    "hidden": true
   },
   "outputs": [],
   "source": [
    "voronoi_neighbors(s29.QD_list)"
   ]
  },
  {
   "cell_type": "code",
   "execution_count": null,
   "metadata": {
    "collapsed": false,
    "hidden": true,
    "scrolled": true
   },
   "outputs": [],
   "source": [
    "voronoi_fill(s29.QD_list, s29.orig_image, mode = 'vor_area')"
   ]
  },
  {
   "cell_type": "code",
   "execution_count": null,
   "metadata": {
    "collapsed": false,
    "hidden": true
   },
   "outputs": [],
   "source": [
    "voronoi_neighbors(s53.QD_list)"
   ]
  },
  {
   "cell_type": "code",
   "execution_count": null,
   "metadata": {
    "collapsed": false,
    "hidden": true
   },
   "outputs": [],
   "source": [
    "tmp = s36.QD_list\n",
    "lst = []\n",
    "for dot in tmp: \n",
    "    if dot.vor_area is not None: \n",
    "        lst.append(dot.vor_area)\n",
    "np.average(lst)"
   ]
  },
  {
   "cell_type": "code",
   "execution_count": null,
   "metadata": {
    "collapsed": true,
    "hidden": true
   },
   "outputs": [],
   "source": [
    "psi4lst100 = []\n",
    "psi6lst100 = []\n",
    "vor_area100 = []\n",
    "psi4lst110 = []\n",
    "psi6lst110 = []\n",
    "vor_area110 = []\n",
    "for tdot in QD_list_tot_36:\n",
    "    if tdot.psi4vor is not None and tdot.psi6vor is not None and tdot.vor_area is not None: \n",
    "        if tdot.orientation[0] == '100':\n",
    "            psi4lst100.append(np.abs(tdot.psi4vor))\n",
    "            psi6lst100.append(np.abs(tdot.psi6vor))\n",
    "            vor_area100.append(tdot.vor_area)\n",
    "        else:\n",
    "            psi4lst110.append(np.abs(tdot.psi4vor))\n",
    "            psi6lst110.append(np.abs(tdot.psi6vor))\n",
    "            vor_area110.append(tdot.vor_area)"
   ]
  },
  {
   "cell_type": "code",
   "execution_count": null,
   "metadata": {
    "collapsed": false,
    "hidden": true
   },
   "outputs": [],
   "source": [
    "fig, ax = plt.subplots()\n",
    "ax.scatter(vor_area100, psi4lst100, s = 50, alpha = 0.3, c = 'r', zorder = 2)\n",
    "ax.scatter(vor_area110, psi6lst110, s = 50, alpha = 0.3, c = 'b')\n",
    "plt.show()"
   ]
  },
  {
   "cell_type": "code",
   "execution_count": null,
   "metadata": {
    "collapsed": false,
    "hidden": true
   },
   "outputs": [],
   "source": [
    "fig, ax = plt.subplots()\n",
    "ax.scatter(vor_area110, psi4lst110, s = 50, alpha = 0.3)\n",
    "ax.scatter(vor_area110, psi6lst110, s = 50, alpha = 0.3, c = 'r')\n",
    "plt.show()"
   ]
  },
  {
   "cell_type": "code",
   "execution_count": null,
   "metadata": {
    "collapsed": false,
    "hidden": true
   },
   "outputs": [],
   "source": [
    "fig, ax = plt.subplots()\n",
    "ax.scatter(vor_area110, psi6lst110, s = 50, alpha = 0.3, c = 'r')\n",
    "plt.show()"
   ]
  },
  {
   "cell_type": "markdown",
   "metadata": {
    "hidden": true
   },
   "source": [
    "various comparisons across dot types"
   ]
  },
  {
   "cell_type": "code",
   "execution_count": null,
   "metadata": {
    "collapsed": false,
    "hidden": true
   },
   "outputs": [],
   "source": [
    "for lst in sep_QD_list_tot:\n",
    "    maglst = []\n",
    "    for tdot in lst: \n",
    "        if tdot.vor_area is not None: \n",
    "            maglst.append(np.abs(tdot.vor_area))\n",
    "    if maglst: \n",
    "        print(tdot.orientation[0] + ': ', np.average(maglst))"
   ]
  },
  {
   "cell_type": "markdown",
   "metadata": {
    "heading_collapsed": true,
    "hidden": true
   },
   "source": [
    "## average strain for each image:  doesn't say anything. in excel document"
   ]
  },
  {
   "cell_type": "code",
   "execution_count": null,
   "metadata": {
    "collapsed": false,
    "hidden": true
   },
   "outputs": [],
   "source": [
    "voronoi_neighbors(s29.QD_list)"
   ]
  },
  {
   "cell_type": "code",
   "execution_count": null,
   "metadata": {
    "code_folding": [],
    "collapsed": false,
    "hidden": true
   },
   "outputs": [],
   "source": [
    "get_strain(s29.QD_list)"
   ]
  },
  {
   "cell_type": "code",
   "execution_count": null,
   "metadata": {
    "collapsed": false,
    "hidden": true
   },
   "outputs": [],
   "source": [
    "show_strain(s29.QD_list, s29.orig_image)"
   ]
  },
  {
   "cell_type": "code",
   "execution_count": null,
   "metadata": {
    "collapsed": false,
    "hidden": true
   },
   "outputs": [],
   "source": [
    "tmp = s53.QD_list"
   ]
  },
  {
   "cell_type": "code",
   "execution_count": null,
   "metadata": {
    "collapsed": false,
    "hidden": true
   },
   "outputs": [],
   "source": [
    "voronoi_neighbors(tmp)"
   ]
  },
  {
   "cell_type": "code",
   "execution_count": null,
   "metadata": {
    "code_folding": [],
    "collapsed": false,
    "hidden": true
   },
   "outputs": [],
   "source": [
    "get_strain(s29.QD_list, normed = True)\n",
    "lst = []\n",
    "for tdot in s29.QD_list: \n",
    "    if tdot.strain is not None: \n",
    "        lst.append(tdot.strain)\n",
    "np.average(lst)"
   ]
  },
  {
   "cell_type": "code",
   "execution_count": null,
   "metadata": {
    "collapsed": false,
    "hidden": true
   },
   "outputs": [],
   "source": [
    "get_strain(tmp, normed = False)\n",
    "lst = []\n",
    "for tdot in tmp: \n",
    "    if tdot.strain is not None: \n",
    "        lst.append(tdot.strain)\n",
    "np.average(lst) * (160/4096) **2"
   ]
  },
  {
   "cell_type": "code",
   "execution_count": null,
   "metadata": {
    "collapsed": true,
    "hidden": true
   },
   "outputs": [],
   "source": [
    "show_strain(tmp, s27.orig_image) "
   ]
  },
  {
   "cell_type": "markdown",
   "metadata": {
    "hidden": true
   },
   "source": [
    "something with angular correlation"
   ]
  },
  {
   "cell_type": "code",
   "execution_count": null,
   "metadata": {
    "collapsed": true,
    "hidden": true
   },
   "outputs": [],
   "source": []
  },
  {
   "cell_type": "markdown",
   "metadata": {
    "heading_collapsed": true,
    "hidden": true
   },
   "source": [
    "## Figure 4 -- Grain boundaries"
   ]
  },
  {
   "cell_type": "code",
   "execution_count": null,
   "metadata": {
    "collapsed": false,
    "hidden": true,
    "scrolled": true
   },
   "outputs": [],
   "source": [
    "alpha_vector_overlay(s36.QD_list, s36.orig_image, save = True)"
   ]
  },
  {
   "cell_type": "code",
   "execution_count": null,
   "metadata": {
    "collapsed": true,
    "hidden": true
   },
   "outputs": [],
   "source": []
  },
  {
   "cell_type": "code",
   "execution_count": null,
   "metadata": {
    "collapsed": false,
    "hidden": true
   },
   "outputs": [],
   "source": [
    "voronoi_color(s36.QD_list, s36.orig_image, mode = 'alpha', save = True)"
   ]
  },
  {
   "cell_type": "code",
   "execution_count": null,
   "metadata": {
    "collapsed": false,
    "hidden": true
   },
   "outputs": [],
   "source": [
    "show_alpha_neighbors(s36.QD_list_crop ,s36.orig_image,'ave','tag','abs',save = False, lowthresh = 0, hithresh = 15)"
   ]
  },
  {
   "cell_type": "code",
   "execution_count": null,
   "metadata": {
    "collapsed": false,
    "hidden": true
   },
   "outputs": [],
   "source": [
    "show_alpha_neighbors(s36.QD_list ,s36.orig_image,'all','tag','abs',0,10)"
   ]
  },
  {
   "cell_type": "code",
   "execution_count": null,
   "metadata": {
    "collapsed": true,
    "hidden": true
   },
   "outputs": [],
   "source": []
  },
  {
   "cell_type": "code",
   "execution_count": null,
   "metadata": {
    "collapsed": false,
    "hidden": true
   },
   "outputs": [],
   "source": [
    "voronoi_color(s36.QD_list, s36.orig_image, mode = 'psi4Vor', save = False)"
   ]
  },
  {
   "cell_type": "code",
   "execution_count": null,
   "metadata": {
    "collapsed": false,
    "hidden": true
   },
   "outputs": [],
   "source": [
    "voronoi_color(s36.QD_list, s36.orig_image, mode = 'psi6Vor', save = False)"
   ]
  },
  {
   "cell_type": "code",
   "execution_count": null,
   "metadata": {
    "collapsed": true,
    "hidden": true
   },
   "outputs": [],
   "source": []
  },
  {
   "cell_type": "code",
   "execution_count": null,
   "metadata": {
    "collapsed": true,
    "hidden": true
   },
   "outputs": [],
   "source": [
    "alpha_vector_overlay(s36.QD_list, s36.orig_image, save = False, others = True)"
   ]
  },
  {
   "cell_type": "code",
   "execution_count": null,
   "metadata": {
    "collapsed": false,
    "hidden": true
   },
   "outputs": [],
   "source": [
    "alpha_vector_overlay(s36.QD_list, s36.orig_image, alphas = False, others = True, save = False)"
   ]
  },
  {
   "cell_type": "markdown",
   "metadata": {
    "hidden": true
   },
   "source": [
    "psi4 misalignments"
   ]
  },
  {
   "cell_type": "code",
   "execution_count": null,
   "metadata": {
    "collapsed": false,
    "hidden": true
   },
   "outputs": [],
   "source": [
    "for tdot in s36.QD_list:\n",
    "    get_psi4_neighbors(tdot, s36.QD_list)"
   ]
  },
  {
   "cell_type": "code",
   "execution_count": null,
   "metadata": {
    "collapsed": true,
    "hidden": true
   },
   "outputs": [],
   "source": [
    "voronoi_neighbors(s36.QD_list)"
   ]
  },
  {
   "cell_type": "code",
   "execution_count": null,
   "metadata": {
    "collapsed": false,
    "hidden": true
   },
   "outputs": [],
   "source": [
    "voronoi_color(s36.QD_list, s36.orig_image, mode = 'psi4_alpha', save = False)"
   ]
  },
  {
   "cell_type": "code",
   "execution_count": null,
   "metadata": {
    "collapsed": false,
    "hidden": true
   },
   "outputs": [],
   "source": [
    "tdot = s36.QD_list[182]\n",
    "tdot.neighborsvor"
   ]
  },
  {
   "cell_type": "markdown",
   "metadata": {
    "hidden": true
   },
   "source": [
    "straight alpha colormaps"
   ]
  },
  {
   "cell_type": "code",
   "execution_count": null,
   "metadata": {
    "collapsed": false,
    "hidden": true
   },
   "outputs": [],
   "source": [
    "voronoi_color2(s36.QD_list, s36.orig_image, mode = 'psi4Vor', save= False)"
   ]
  },
  {
   "cell_type": "code",
   "execution_count": null,
   "metadata": {
    "collapsed": false,
    "hidden": true
   },
   "outputs": [],
   "source": [
    "voronoi_color2(s36.QD_list, s36.orig_image, mode = 'alpha', save = False)"
   ]
  },
  {
   "cell_type": "code",
   "execution_count": null,
   "metadata": {
    "collapsed": false,
    "hidden": true
   },
   "outputs": [],
   "source": [
    "import cmocean\n",
    "def voronoi_color2(QD_list, orig_image, mode = 'alpha', save = False):\n",
    "    cmlist = np.array([dot.cm for dot in QD_list])\n",
    "    vor = Voronoi(cmlist)\n",
    "    \n",
    "    i = 0\n",
    "    patches = []\n",
    "    maglist = []\n",
    "    arrows = []\n",
    "    for dot in QD_list: \n",
    "        cm = dot.cm\n",
    "        indices = get_vertices(i, cm, vor)\n",
    "        for pos in indices: \n",
    "            pos2 = np.copy(pos)\n",
    "            pos[0], pos[1] = pos2[1], pos2[0]\n",
    "        i += 1\n",
    "\n",
    "        if np.shape(indices)[0] > 3:\n",
    "            region = matplotlib.patches.Polygon(indices, closed=True, edgecolor = None)\n",
    "            patches.append(region)\n",
    "            if mode == 'alpha': \n",
    "                if dot.ave_neighbor_alpha is not None:\n",
    "                    # maglist.append(np.abs(dot.ave_neighbor_alpha))\n",
    "                    maglist.append(dot.orientation[1][0])\n",
    "                else: \n",
    "                    maglist.append(-1)\n",
    "            elif mode == 'psi4Vor':\n",
    "                if dot.psi4vor is not None:\n",
    "                    # maglist.append(np.abs(dot.psi4vor))\n",
    "                    th = get_theta(dot.psi4vor) + 90\n",
    "                    maglist.append(th)\n",
    "                    theta = np.radians(get_theta(dot.psi4vor))\n",
    "                    y = dot.cm[0]\n",
    "                    x = dot.cm[1]\n",
    "                    dx = np.cos(theta)\n",
    "                    dy = np.sin(theta)\n",
    "                    scale_f = 115\n",
    "                    xy = np.array([[x,y],[x,y],[x,y]])+(np.array([[dx,dy],[-dy/4,dx/4],[dy/4,-dx/4]])-np.array([[dx/2.,dy/2],[dx/2.,dy/2],[dx/2.,dy/2]])) * scale_f\n",
    "                    triangle=matplotlib.patches.Polygon(xy, closed=True, edgecolor = None)\n",
    "                    arrows.append(triangle)\n",
    "                else:\n",
    "                    maglist.append(-1)\n",
    "            elif mode == 'psi6Vor':\n",
    "                if dot.psi6vor is not None:\n",
    "                    maglist.append(np.abs(dot.psi6vor))\n",
    "                    theta1 = get_theta(dot.psi6vor) % 60 \n",
    "                    theta = np.radians(theta1)\n",
    "                    y = dot.cm[0]\n",
    "                    x = dot.cm[1]\n",
    "                    dx = np.cos(theta)\n",
    "                    dy = np.sin(theta) * -1\n",
    "                    scale_f = 115\n",
    "                    xy = np.array([[x,y],[x,y],[x,y]])+(np.array([[dx,dy],[-dy/4,dx/4],[dy/4,-dx/4]])-np.array([[dx/2.,dy/2],[dx/2.,dy/2],[dx/2.,dy/2]])) * scale_f\n",
    "                    triangle=matplotlib.patches.Polygon(xy, closed=True, edgecolor = None)\n",
    "                    arrows.append(triangle)\n",
    "                else:\n",
    "                    maglist.append(-1)\n",
    "            elif mode == 'psi4_alpha': \n",
    "                maglist.append(np.abs(dot.ave_neighbor_psi4))\n",
    "            else: \n",
    "                return('wrong input for mode. Options are \"alpha\" or \"psi4Vor\" or \"psi4_alpha\".')\n",
    "    \n",
    "    shifted_cmap = shiftedColorMap(plt.cm.seismic, midpoint=0.5, name='shifted_inf')\n",
    "    fig, ax = plt.subplots() \n",
    "    p = PatchCollection(patches)\n",
    "    ax.add_collection(p)\n",
    "    ax.invert_yaxis\n",
    "    cmap = cmocean.cm.balance \n",
    "    if mode == 'alpha' or mode == 'psi4_alpha':\n",
    "        p.set(array= np.array(maglist), cmap=cmap)\n",
    "        # p.set_clim(0, 15)\n",
    "        p.set_clim(vmin = 5)\n",
    "        cbar = fig.colorbar(p, extend = 'both')\n",
    "        cbar.cmap.set_under('black', alpha = 1)\n",
    "        cbar.cmap.set_over('orange')\n",
    "        file_name = 'alpha_neighbors_voronoi'\n",
    "        plt.imshow(orig_image, cmap = 'gray', alpha = 0)\n",
    "    else: \n",
    "        p.set(array= np.array(maglist), cmap=cmap)\n",
    "        # p.set_clim(0,1)\n",
    "        p.set_clim(vmin = 5)\n",
    "        cbar = fig.colorbar(p)\n",
    "#         p2 = PatchCollection(arrows, color = 'black')\n",
    "#         ax.add_collection(p2)\n",
    "        file_name = 'psi4_overlay_voronoi'\n",
    "        plt.imshow(orig_image, cmap = 'gray', alpha = 0)\n",
    "\n",
    "    plt.show()\n",
    "        \n",
    "    if save == True: \n",
    "        plt.axis('off')\n",
    "        img_name = QD_list[0].image\n",
    "        output_path = \"../presentables/QD_manuscript/vc2\"\n",
    "        file = img_name + file_name\n",
    "        plt.savefig(output_path + file + '.png' ,dpi = 1000,bbox_inches='tight')\n",
    "    return\n"
   ]
  },
  {
   "cell_type": "code",
   "execution_count": null,
   "metadata": {
    "collapsed": false,
    "hidden": true
   },
   "outputs": [],
   "source": [
    "voronoi_color2(s36.QD_list, s36.orig_image, mode = 'psi4Vor')"
   ]
  },
  {
   "cell_type": "code",
   "execution_count": null,
   "metadata": {
    "collapsed": true,
    "hidden": true
   },
   "outputs": [],
   "source": [
    "voronoi_color2(s36.QD_list, s36.orig_image, mode = 'alpha')"
   ]
  },
  {
   "cell_type": "code",
   "execution_count": null,
   "metadata": {
    "collapsed": false,
    "hidden": true
   },
   "outputs": [],
   "source": [
    "voronoi_fill(s36.QD_list, s36.orig_image, mode = 'psi4_gl')"
   ]
  },
  {
   "cell_type": "markdown",
   "metadata": {
    "heading_collapsed": true,
    "hidden": true
   },
   "source": [
    "### Comparing psi4s"
   ]
  },
  {
   "cell_type": "code",
   "execution_count": null,
   "metadata": {
    "collapsed": true,
    "hidden": true
   },
   "outputs": [],
   "source": [
    "def get_psi4_neighbors(tdot, state):\n",
    "    '''\n",
    "    For a dot looks at neighbors and gets the misalignment between the dot and its neighbors. \n",
    "    Assigns to dot.neighbor_alphas a list of misalignment for the dot (referenced by QD_index of other dot)\n",
    "    and for dot.ave_neighbor_alpha the average absolute value misalignment form neighbors. \n",
    "    '''\n",
    "    a1 = tdot.psi4vor\n",
    "    tdot.ave_neighbor_psi4 = None\n",
    "    tdot.neighbor_psi4s = []\n",
    "    neighborlist = []\n",
    "    for index in tdot.neighborsKD:\n",
    "        neighborlist.append(state.QD_list[index])\n",
    "\n",
    "    diflist = []\n",
    "\n",
    "    if a1:\n",
    "        for ndot in neighborlist:    \n",
    "            append = True\n",
    "            n1 = ndot.psi4vor\n",
    "            # if n1 doesnt have an orientation cant get relative misorientations \n",
    "            if not n1:\n",
    "                append = False\n",
    "            else: \n",
    "                theta1 = np.radians(get_theta(a1))\n",
    "                theta2 = np.radians(get_theta(n1))\n",
    "                dif = (theta2 - theta1) / np.pi * 180\n",
    "                \n",
    "            if append == True:\n",
    "                if dif < -45:\n",
    "                    fdif = 90 + dif\n",
    "                elif dif > 45:\n",
    "                    fdif = dif - 90\n",
    "                else:\n",
    "                    fdif = dif  \n",
    "\n",
    "                tdot.neighbor_psi4s.append([ndot.QD_index,fdif])\n",
    "                diflist.append(fdif)\n",
    "        # get average value and assign\n",
    "        if np.shape(diflist)[0] != 0: \n",
    "            alpha3 = np.average(diflist)\n",
    "\n",
    "            if alpha3 < -45:\n",
    "                avealpha = 90 + alpha3\n",
    "            elif alpha3 > 45:\n",
    "                avealpha = alpha3 - 90\n",
    "            else:\n",
    "                avealpha = alpha3  \n",
    "            tdot.ave_neighbor_psi4 = avealpha "
   ]
  },
  {
   "cell_type": "code",
   "execution_count": null,
   "metadata": {
    "collapsed": false,
    "hidden": true
   },
   "outputs": [],
   "source": [
    "for tdot in s36.QD_list:\n",
    "    get_psi4_neighbors(tdot, s36)"
   ]
  },
  {
   "cell_type": "code",
   "execution_count": null,
   "metadata": {
    "collapsed": false,
    "hidden": true
   },
   "outputs": [],
   "source": [
    "def show_psi4_neighbors(QD_list, orig_image):\n",
    "    \"\"\"\n",
    "\n",
    "    \"\"\"\n",
    "    N = np.shape(QD_list)[0]\n",
    "    x = np.zeros(N)\n",
    "    y = np.zeros(N)\n",
    "    alphalist = np.zeros(N)\n",
    "    i = 0\n",
    "    for dot in QD_list:\n",
    "        try:\n",
    "            alpha = dot.ave_neighbor_psi4\n",
    "            x[i] = dot.cm[1]\n",
    "            y[i] = dot.cm[0]\n",
    "            alphalist[i] = np.abs(alpha) \n",
    "        except TypeError:\n",
    "            pass\n",
    "        i+=1\n",
    "\n",
    "    patches = []\n",
    "    for x1,y1,r in zip(x, y, alphalist):\n",
    "        circle = Circle((x1,y1), 30)\n",
    "        patches.append(circle)\n",
    "\n",
    "    fig = plt.figure()\n",
    "    ax = fig.add_subplot(111)\n",
    "    \n",
    "    shifted_cmap = shiftedColorMap(plt.cm.inferno, midpoint=0.2, name='shifted_inf')\n",
    "    p = PatchCollection(patches, cmap = 'inferno', alpha=0.9)\n",
    "    p.set_array(alphalist)\n",
    "    ax.add_collection(p)\n",
    "    cbar = fig.colorbar(p, extend = 'max')\n",
    "    p.set_clim(0,15)\n",
    "#     cbar.cmap.set_under('green', alpha = 0)\n",
    "    cbar.cmap.set_over('white')\n",
    "    plt.imshow(orig_image, cmap = 'gray')\n",
    "    plt.show()"
   ]
  },
  {
   "cell_type": "code",
   "execution_count": null,
   "metadata": {
    "collapsed": false,
    "hidden": true
   },
   "outputs": [],
   "source": [
    "psi4_overlay(s36.QD_list,'vor',s36.orig_image, save = False, show_vor = True)"
   ]
  },
  {
   "cell_type": "code",
   "execution_count": null,
   "metadata": {
    "collapsed": false,
    "hidden": true
   },
   "outputs": [],
   "source": [
    "voronoi_color(s36.QD_list, s36.orig_image, mode = 'psi4_alpha')"
   ]
  },
  {
   "cell_type": "markdown",
   "metadata": {
    "heading_collapsed": true,
    "hidden": true
   },
   "source": [
    "### Figure 4--voronoi fill for misalignment"
   ]
  },
  {
   "cell_type": "code",
   "execution_count": null,
   "metadata": {
    "collapsed": false,
    "hidden": true,
    "scrolled": true
   },
   "outputs": [],
   "source": [
    "def voronoi_color(QD_list, orig_image, mode = 'alpha', save = False):\n",
    "    cmlist = np.array([dot.cm for dot in QD_list])\n",
    "    vor = Voronoi(cmlist)\n",
    "    \n",
    "    i = 0\n",
    "    patches = []\n",
    "    maglist = []\n",
    "    arrows = []\n",
    "    for dot in QD_list: \n",
    "        cm = dot.cm\n",
    "        indices = get_vertices(i, cm, vor)\n",
    "        for pos in indices: \n",
    "            pos2 = np.copy(pos)\n",
    "            pos[0], pos[1] = pos2[1], pos2[0]\n",
    "        i += 1\n",
    "\n",
    "        if np.shape(indices)[0] > 3:\n",
    "            region = matplotlib.patches.Polygon(indices, closed=True, edgecolor = None)\n",
    "            patches.append(region)\n",
    "            if mode == 'alpha': \n",
    "                if dot.ave_neighbor_alpha is not None:\n",
    "                    maglist.append(np.abs(dot.ave_neighbor_alpha))\n",
    "                else: \n",
    "                    maglist.append(-1)\n",
    "            elif mode == 'psi4Vor':\n",
    "                if dot.psi4vor is not None:\n",
    "                    maglist.append(np.abs(dot.psi4vor))\n",
    "                    theta = np.radians(get_theta(dot.psi4vor))\n",
    "                    y = dot.cm[0]\n",
    "                    x = dot.cm[1]\n",
    "                    dx = np.cos(theta)\n",
    "                    dy = np.sin(theta)\n",
    "                    scale_f = 115\n",
    "                    xy = np.array([[x,y],[x,y],[x,y]])+(np.array([[dx,dy],[-dy/4,dx/4],[dy/4,-dx/4]])-np.array([[dx/2.,dy/2],[dx/2.,dy/2],[dx/2.,dy/2]])) * scale_f\n",
    "                    triangle=matplotlib.patches.Polygon(xy, closed=True, edgecolor = None)\n",
    "                    arrows.append(triangle)\n",
    "                else:\n",
    "                    maglist.append(-1)\n",
    "            elif mode == 'psi6Vor':\n",
    "                if dot.psi6vor is not None:\n",
    "                    maglist.append(np.abs(dot.psi6vor))\n",
    "                    theta = np.radians(get_theta(dot.psi6vor))\n",
    "                    y = dot.cm[0]\n",
    "                    x = dot.cm[1]\n",
    "                    dx = np.cos(theta)\n",
    "                    dy = np.sin(theta)\n",
    "                    scale_f = 115\n",
    "                    xy = np.array([[x,y],[x,y],[x,y]])+(np.array([[dx,dy],[-dy/4,dx/4],[dy/4,-dx/4]])-np.array([[dx/2.,dy/2],[dx/2.,dy/2],[dx/2.,dy/2]])) * scale_f\n",
    "                    triangle=matplotlib.patches.Polygon(xy, closed=True, edgecolor = None)\n",
    "                    arrows.append(triangle)\n",
    "                else:\n",
    "                    maglist.append(-1)\n",
    "            elif mode == 'psi4_alpha': \n",
    "                maglist.append(np.abs(dot.ave_neighbor_psi4))\n",
    "            else: \n",
    "                return('wrong input for mode. Options are \"alpha\" or \"psi4Vor\" or \"psi4_alpha\".')\n",
    "    \n",
    "    shifted_cmap = shiftedColorMap(plt.cm.inferno, midpoint=0.6, name='shifted_inf')\n",
    "    fig, ax = plt.subplots() \n",
    "    p = PatchCollection(patches)\n",
    "    ax.add_collection(p)\n",
    "    ax.invert_yaxis\n",
    "    if mode == 'alpha' or mode == 'psi4_alpha':\n",
    "        p.set(array= np.array(maglist), cmap='shifted_inf')\n",
    "        p.set_clim(0, 15)\n",
    "        cbar = fig.colorbar(p, extend = 'both')\n",
    "        cbar.cmap.set_under('green', alpha = 0)\n",
    "        cbar.cmap.set_over('white')\n",
    "        file_name = 'alpha_neighbors_voronoi'\n",
    "        plt.imshow(orig_image, cmap = 'gray')\n",
    "    else: \n",
    "        p.set(array= np.array(maglist), cmap='shifted_inf', alpha = 0.8)\n",
    "        p.set_clim(0,1)\n",
    "        cbar = fig.colorbar(p)\n",
    "        p2 = PatchCollection(arrows, color = 'black')\n",
    "        ax.add_collection(p2)\n",
    "        file_name = 'psi4vor_overlay_voronoi'\n",
    "        plt.imshow(orig_image, cmap = 'gray', alpha = 0)\n",
    "\n",
    "    plt.show()\n",
    "        \n",
    "    if save == True: \n",
    "        plt.axis('off')\n",
    "        img_name = QD_list[0].image\n",
    "        output_path = \"../presentables/Figures/\"\n",
    "        file = img_name + file_name\n",
    "        plt.savefig(output_path + file + '.png' ,dpi = 1000,bbox_inches='tight')\n",
    "    return"
   ]
  },
  {
   "cell_type": "code",
   "execution_count": null,
   "metadata": {
    "collapsed": false,
    "hidden": true
   },
   "outputs": [],
   "source": [
    "voronoi_color(s36.QD_list, s36.orig_image, mode = 'psi4Vor', save = False)"
   ]
  },
  {
   "cell_type": "code",
   "execution_count": null,
   "metadata": {
    "collapsed": false,
    "hidden": true
   },
   "outputs": [],
   "source": [
    "voronoi_color(s36.QD_list, s36.orig_image, mode = 'psi6Vor', save = False)"
   ]
  },
  {
   "cell_type": "code",
   "execution_count": null,
   "metadata": {
    "collapsed": true,
    "hidden": true
   },
   "outputs": [],
   "source": [
    "voronoi_color(s36.QD_list, s36.orig_image, mode = 'alpha', save = True)"
   ]
  },
  {
   "cell_type": "markdown",
   "metadata": {
    "hidden": true
   },
   "source": [
    "### percentages that are different dots"
   ]
  },
  {
   "cell_type": "code",
   "execution_count": null,
   "metadata": {
    "collapsed": true,
    "hidden": true
   },
   "outputs": [],
   "source": []
  },
  {
   "cell_type": "markdown",
   "metadata": {
    "hidden": true
   },
   "source": [
    "## Supplementary"
   ]
  },
  {
   "cell_type": "markdown",
   "metadata": {
    "heading_collapsed": true,
    "hidden": true
   },
   "source": [
    "### A"
   ]
  },
  {
   "cell_type": "code",
   "execution_count": null,
   "metadata": {
    "collapsed": true,
    "hidden": true
   },
   "outputs": [],
   "source": []
  },
  {
   "cell_type": "code",
   "execution_count": null,
   "metadata": {
    "collapsed": false,
    "hidden": true
   },
   "outputs": [],
   "source": [
    "N = 6\n",
    "nums = (512/1823, 864/1823, 307/1823, 14/1823,36/1823, 90/1823)\n",
    "\n",
    "ind = np.arange(N)  # the x locations for the groups\n",
    "width = 0.35       # the width of the bars\n",
    "\n",
    "fig, ax = plt.subplots()\n",
    "rects1 = ax.bar(ind, nums, width, color='black')\n",
    "\n",
    "# add some text for labels, title and axes ticks\n",
    "# ax.set_ylabel('Probability', fontsize = 20)\n",
    "ax.set_title('Distribution of Orientations', fontsize = 20)\n",
    "ax.set_xticks(ind + width / 2)\n",
    "ax.set_xticklabels(('<1,0,0>', '<1,x,0>', '<1,y,y>', '<1,1,0>', '<1,z+1,z>', 'No structure'))\n",
    "ax.set_ylim(0,0.55)\n",
    "ax.set_xlim(-0.35, 5.6)\n",
    "plt.xticks(rotation=-30)\n",
    "plt.tick_params(axis='both', which='major', labelsize=18)\n",
    "plt.tick_params(axis='both', which='minor', labelsize=18)\n",
    "\n",
    "for tick in ax.xaxis.get_majorticklabels():\n",
    "    tick.set_horizontalalignment(\"left\")\n",
    "\n",
    "for rect in rects1:\n",
    "    height = rect.get_height() \n",
    "    print(height)\n",
    "    ax.text(rect.get_x() + rect.get_width()/2., height + 0.005,\n",
    "            '%0.2f' % (100 * height) + '%',\n",
    "            ha='center', va='bottom', fontsize = 16)\n",
    "plt.savefig('/Users/arthur/Desktop/Arthur/presentables/QD_manuscript/supporting_info/A/distribution_plot.png', \n",
    "            dpi = 250,bbox_inches = 'tight')\n",
    "plt.show()"
   ]
  },
  {
   "cell_type": "markdown",
   "metadata": {
    "heading_collapsed": true,
    "hidden": true
   },
   "source": [
    "### C"
   ]
  },
  {
   "cell_type": "code",
   "execution_count": null,
   "metadata": {
    "collapsed": false,
    "hidden": true
   },
   "outputs": [],
   "source": [
    "voronoi_color(s29.QD_list, s29.orig_image, mode = 'psi4Vor', save = True)"
   ]
  },
  {
   "cell_type": "markdown",
   "metadata": {
    "heading_collapsed": true,
    "hidden": true
   },
   "source": [
    "### D"
   ]
  },
  {
   "cell_type": "code",
   "execution_count": null,
   "metadata": {
    "collapsed": false,
    "hidden": true
   },
   "outputs": [],
   "source": [
    "voronoi_fill(s29.QD_list, s29.orig_image, mode = 'psi4Vor', save = True)"
   ]
  },
  {
   "cell_type": "code",
   "execution_count": null,
   "metadata": {
    "collapsed": false,
    "hidden": true
   },
   "outputs": [],
   "source": [
    "voronoi_fill(s29.QD_list, s29.orig_image, mode = 'psi6Vor', save = True)"
   ]
  },
  {
   "cell_type": "markdown",
   "metadata": {
    "hidden": true
   },
   "source": [
    "Extra"
   ]
  },
  {
   "cell_type": "code",
   "execution_count": null,
   "metadata": {
    "collapsed": false,
    "hidden": true
   },
   "outputs": [],
   "source": [
    "for i in sep_QD_list_tot_36:\n",
    "    lst4 = []\n",
    "    lst6 = []\n",
    "    for tdot in i: \n",
    "        if tdot.psi4vor is not None:\n",
    "            lst4.append(np.abs(tdot.psi4vor))\n",
    "            lst6.append(np.abs(tdot.psi6vor))\n",
    "    if i:\n",
    "        print(tdot.orientation[0], np.mean(lst4), np.mean(lst6))"
   ]
  },
  {
   "cell_type": "code",
   "execution_count": null,
   "metadata": {
    "collapsed": false,
    "hidden": true
   },
   "outputs": [],
   "source": [
    "sep_QD_list_29 = sort_QD_list(s29.QD_list_crop)"
   ]
  },
  {
   "cell_type": "markdown",
   "metadata": {
    "heading_collapsed": true,
    "hidden": true
   },
   "source": [
    "## M&M abstract"
   ]
  },
  {
   "cell_type": "markdown",
   "metadata": {
    "hidden": true
   },
   "source": [
    "### figure 1 "
   ]
  },
  {
   "cell_type": "markdown",
   "metadata": {
    "hidden": true
   },
   "source": [
    "Components:   \n",
    "-largeish raw data image [above]  \n",
    "-psi 4 and voronoi diagram   \n",
    "-crystal orientations 100, 1n0, 1nn [right]  \n",
    "-AL overlay  (the part showing preferntial alignment)"
   ]
  },
  {
   "cell_type": "markdown",
   "metadata": {
    "hidden": true
   },
   "source": [
    "largeish image of dots (stacked above next image)"
   ]
  },
  {
   "cell_type": "code",
   "execution_count": null,
   "metadata": {
    "collapsed": false,
    "hidden": true,
    "scrolled": true
   },
   "outputs": [],
   "source": [
    "alpha_vector_overlay(s29.QD_list_crop, s29.orig_image, 'dont save')"
   ]
  },
  {
   "cell_type": "markdown",
   "metadata": {
    "hidden": true
   },
   "source": [
    "###### making the triple histogram figure"
   ]
  },
  {
   "cell_type": "code",
   "execution_count": null,
   "metadata": {
    "collapsed": false,
    "hidden": true
   },
   "outputs": [],
   "source": [
    "alist100 = []\n",
    "alist1n0 = []\n",
    "alist1nn = []\n",
    "for tdot in sep_QD_list_tot_36[3]:\n",
    "    alpha_alpha = tdot.ave_neighbor_alpha\n",
    "    if alpha_alpha: \n",
    "        if np.abs(alpha_alpha) < 10:  \n",
    "            alist100.append(alpha_alpha)\n",
    "for tdot in sep_QD_list_tot_36[1]:\n",
    "    alpha_alpha = tdot.ave_neighbor_alpha\n",
    "    if alpha_alpha: \n",
    "        if np.abs(alpha_alpha) < 10:  \n",
    "            alist1n0.append(alpha_alpha)\n",
    "for tdot in sep_QD_list_tot_36[2]:\n",
    "    alpha_alpha = tdot.ave_neighbor_alpha\n",
    "    if alpha_alpha: \n",
    "        if np.abs(alpha_alpha) < 10:  \n",
    "            alist1nn.append(alpha_alpha)        \n"
   ]
  },
  {
   "cell_type": "code",
   "execution_count": null,
   "metadata": {
    "collapsed": false,
    "hidden": true,
    "scrolled": true
   },
   "outputs": [],
   "source": [
    "from scipy.stats import norm\n",
    "import matplotlib.mlab as mlab\n",
    "\n",
    "num_bins = 99\n",
    "fig=plt.figure()\n",
    "props = dict(boxstyle='square', facecolor='wheat', alpha=0.8)\n",
    "ylim = (0, 0.4)\n",
    "xlim = (-9, 9)\n",
    "xrange = (-10,10)\n",
    "\n",
    "ax1 = plt.subplot(311)\n",
    "n1, bins1, patches1 = ax1.hist(alist100, num_bins,range = xrange, color = 'red',label = '<100>', normed=True)\n",
    "plt.yticks(np.arange(0,.50,.10))\n",
    "ax1.set_ylim(ylim)\n",
    "ax1.set_xlim(xlim)\n",
    "plt.tick_params(axis='both', which='major', labelsize=20)\n",
    "(mu, sigma) = norm.fit(alist100)\n",
    "plt.axvline(x = sigma + mu, ymin= 0, ymax = 1, linewidth = 3, linestyle = 'dashed', color = 'black')\n",
    "plt.axvline(x = -sigma + mu, ymin= 0, ymax = 1, linewidth = 3, linestyle = 'dashed', color = 'black')\n",
    "y = mlab.normpdf( bins1, mu, sigma)\n",
    "l = plt.plot(bins1, y, 'black', linewidth=2)\n",
    "textstr1 = r'$\\sigma_{\\langle 100 \\rangle} =%.2f$'%(sigma)\n",
    "ax1.text(-8.5, 0.35, textstr1,  fontsize=22, verticalalignment='top', bbox=props)\n",
    "textstr12 = r'$N = %i$' %(np.size(sep_QD_list_tot_36[3]))\n",
    "ax1.text(4, 0.35, textstr12,  fontsize=22, verticalalignment='top')\n",
    "\n",
    "\n",
    "ax2 = plt.subplot(312)\n",
    "n2, bins2, patches2 = ax2.hist(alist1n0, num_bins,range = xrange, color = 'green',label = '<1n0>',normed = True)\n",
    "plt.yticks(np.arange(0,.40,.10))\n",
    "ax2.set_ylim(ylim)\n",
    "ax2.set_xlim(xlim)\n",
    "(mu2, sigma2) = norm.fit(alist1n0)\n",
    "plt.axvline(x = sigma2 + mu2, ymin= 0, ymax = 1, linewidth = 3, linestyle = 'dashed', color = 'black')\n",
    "plt.axvline(x = -sigma2 + mu2, ymin= 0, ymax = 1, linewidth = 3, linestyle = 'dashed', color = 'black')\n",
    "y2 = mlab.normpdf( bins2, mu2, sigma2)\n",
    "l2 = plt.plot(bins2, y2, 'black', linewidth=2)\n",
    "plt.tick_params(axis='both', which='major', labelsize=20)\n",
    "textstr2 = r'$\\sigma_{\\langle 1x0 \\rangle} =%.2f$'%(sigma2)\n",
    "ax2.text(-8.5, 0.35, textstr2,  fontsize=22, verticalalignment='top', bbox=props)\n",
    "textstr22 = r'$N = %i$' %(np.size(sep_QD_list_tot_36[1]))\n",
    "ax2.text(4, 0.35, textstr22,  fontsize=22, verticalalignment='top')\n",
    "ax2.yaxis.set_label_position(\"right\")\n",
    "plt.ylabel('Probability', fontsize = 22)\n",
    "\n",
    "ax3 = plt.subplot(313)\n",
    "plt.yticks(np.arange(0,.40,.10))\n",
    "plt.xticks([-5,5])\n",
    "ax3.set_ylim(ylim)\n",
    "ax3.set_xlim(xlim)\n",
    "n3, bins3, patches3 = ax3.hist(alist1nn, num_bins,range = xrange, color = 'dodgerblue',label = '<1mm>',normed = True)\n",
    "(mu3, sigma3) = norm.fit(alist1nn)\n",
    "plt.axvline(x = sigma3 + mu3, ymin= 0, ymax = 1, linewidth = 3, linestyle = 'dashed', color = 'black')\n",
    "plt.axvline(x = -sigma3 + mu3, ymin= 0, ymax = 1, linewidth = 3, linestyle = 'dashed', color = 'black')\n",
    "y3 = mlab.normpdf( bins3, mu3, sigma3)\n",
    "l3 = plt.plot(bins3, y3, 'black', linewidth=2)\n",
    "plt.tick_params(axis='both', which='major', labelsize=20)\n",
    "textstr3 = r'$\\sigma_{\\langle 1yy \\rangle} =%.2f$'%(sigma3)\n",
    "ax3.text(-8.5, 0.35, textstr3,  fontsize=22, verticalalignment='top', bbox=props)\n",
    "textstr32 = r'$N = %i$' %(np.size(sep_QD_list_tot_36[2]))\n",
    "ax3.text(4, 0.35, textstr32,  size=22, verticalalignment='top')\n",
    "\n",
    "plt.xlabel(r'$\\alpha_{n} \\mathrm{(degrees)}$', fontsize = 22, verticalalignment = 'bottom')\n",
    "\n",
    "plt.savefig('../presentables/QD_manuscript/figure_1/triple_histogram', dpi = 200, bbox = 'tight')\n",
    "plt.show()"
   ]
  },
  {
   "cell_type": "code",
   "execution_count": null,
   "metadata": {
    "collapsed": false,
    "hidden": true,
    "scrolled": true
   },
   "outputs": [],
   "source": [
    "print(np.std(alist100), np.std(alist1n0), np.std(alist1nn))"
   ]
  },
  {
   "cell_type": "code",
   "execution_count": null,
   "metadata": {
    "collapsed": false,
    "hidden": true
   },
   "outputs": [],
   "source": [
    "\n",
    "\n",
    "fig, ax = plt.subplots()\n",
    "datos = alist1nn\n",
    "\n",
    "# best fit of data\n",
    "(mu, sigma) = norm.fit(datos)\n",
    "\n",
    "# the histogram of the data\n",
    "n, bins, patches = plt.hist(datos, 60, normed=1, facecolor='green', alpha=0.75)\n",
    "\n",
    "# add a 'best fit' line\n",
    "y = mlab.normpdf( bins, mu, sigma)\n",
    "l = plt.plot(bins, y, 'r--', linewidth=2)\n",
    "\n",
    "#plot\n",
    "plt.xlabel('Smarts')\n",
    "plt.ylabel('Probability')\n",
    "plt.axvline(x = sigma + mu, ymin = 0.2, ymax = 0.8, linewidth = 3, color = 'black')\n",
    "plt.axvline(x = -sigma + mu, ymin = 0.2, ymax = 0.8, linewidth = 3, color = 'black')\n",
    "plt.title(r'$\\mathrm{Histogram\\ of\\ IQ:}\\ \\mu=%.3f,\\ \\sigma=%.3f$' %(mu, sigma))\n",
    "plt.grid(True)\n",
    "\n",
    "plt.show()"
   ]
  },
  {
   "cell_type": "code",
   "execution_count": null,
   "metadata": {
    "collapsed": false,
    "hidden": true
   },
   "outputs": [],
   "source": [
    "n"
   ]
  },
  {
   "cell_type": "markdown",
   "metadata": {
    "hidden": true
   },
   "source": [
    "### figure 2"
   ]
  },
  {
   "cell_type": "markdown",
   "metadata": {
    "hidden": true
   },
   "source": [
    "preferential alignment plot + diagram  \n",
    "- plot has standard deviations shown"
   ]
  },
  {
   "cell_type": "code",
   "execution_count": null,
   "metadata": {
    "collapsed": false,
    "hidden": true
   },
   "outputs": [],
   "source": [
    "plot_alpha_vs_mpsi(QD_list_tot,'alpha_alpha','abs')"
   ]
  },
  {
   "cell_type": "code",
   "execution_count": null,
   "metadata": {
    "collapsed": false,
    "hidden": true
   },
   "outputs": [],
   "source": [
    "plot_alpha_vs_mpsi(QD_list_tot_36,'alpha_alpha','abs')"
   ]
  },
  {
   "cell_type": "code",
   "execution_count": null,
   "metadata": {
    "collapsed": false,
    "hidden": true
   },
   "outputs": [],
   "source": [
    "psi4_overlay(s29.QD_list,'vor',s29.orig_image, scale = False, save = False, lwidth = 2) "
   ]
  },
  {
   "cell_type": "markdown",
   "metadata": {
    "heading_collapsed": true,
    "hidden": true
   },
   "source": [
    "## M&M Poster"
   ]
  },
  {
   "cell_type": "markdown",
   "metadata": {
    "hidden": true
   },
   "source": [
    "intro stuff"
   ]
  },
  {
   "cell_type": "code",
   "execution_count": null,
   "metadata": {
    "collapsed": false,
    "hidden": true
   },
   "outputs": [],
   "source": [
    "pntlist = []\n",
    "for tdot in s45.QD_list:\n",
    "    pntlist.append(tdot.cm)\n",
    "pntlist = np.array(pntlist)\n",
    "    \n",
    "fig, ax = plt.subplots()\n",
    "ax.matshow(s45.orig_image, cmap = 'gray')\n",
    "ax.scatter(pntlist[:,1], pntlist[:,0], marker = 'o', color = 'r', s = 5)\n",
    "plt.savefig('/Users/arthur/Desktop/Arthur/presentables/m&m_2017/poster/images/com_overlay.png', dpi = 300)\n",
    "plt.show()"
   ]
  },
  {
   "cell_type": "code",
   "execution_count": null,
   "metadata": {
    "collapsed": false,
    "hidden": true
   },
   "outputs": [],
   "source": [
    "tdot = sep_QD_list_45[3][25]\n",
    "orig_im = s45.orig_image\n",
    "(subimg,fft,r,subimg_wide) = s45.dot_fft(tdot, orig_im)\n",
    "s45.show_dot_fft(tdot,subimg,fft,r,subimg_wide, save = True)"
   ]
  },
  {
   "cell_type": "code",
   "execution_count": null,
   "metadata": {
    "collapsed": false,
    "hidden": true,
    "scrolled": true
   },
   "outputs": [],
   "source": [
    "alpha_vector_overlay(s29.QD_list, s29.orig_image, save = True)"
   ]
  },
  {
   "cell_type": "code",
   "execution_count": null,
   "metadata": {
    "collapsed": true,
    "hidden": true
   },
   "outputs": [],
   "source": []
  },
  {
   "cell_type": "markdown",
   "metadata": {
    "hidden": true
   },
   "source": [
    "SL stuff"
   ]
  },
  {
   "cell_type": "code",
   "execution_count": null,
   "metadata": {
    "collapsed": false,
    "hidden": true
   },
   "outputs": [],
   "source": [
    "voronoi_color(s45.QD_list, s45.orig_image, mode = 'psi4Vor', save = False)"
   ]
  },
  {
   "cell_type": "code",
   "execution_count": null,
   "metadata": {
    "collapsed": false,
    "hidden": true
   },
   "outputs": [],
   "source": [
    "psi4_overlay(s45.QD_list, s45.orig_image, kd_vor = 'vor', lwidth = 2)"
   ]
  },
  {
   "cell_type": "code",
   "execution_count": null,
   "metadata": {
    "collapsed": true,
    "hidden": true
   },
   "outputs": [],
   "source": []
  },
  {
   "cell_type": "markdown",
   "metadata": {
    "hidden": true
   },
   "source": [
    "plot of mag psi6 vs psi4"
   ]
  },
  {
   "cell_type": "code",
   "execution_count": null,
   "metadata": {
    "collapsed": false,
    "hidden": true
   },
   "outputs": [],
   "source": [
    "statelist = [s16, s27, s29, s45, s53]\n",
    "SL_list = [9.35, 15.94, 11.51, 4.89, 9.65]\n",
    "psi4s = []\n",
    "psi6s = []\n",
    "psi4error = []\n",
    "psi6error = []\n",
    "for state in statelist: \n",
    "    psi4lst = []\n",
    "    psi6lst = []\n",
    "    for tdot in state.QD_list_crop:\n",
    "        try:\n",
    "            psi4lst.append(np.abs(tdot.psi4vor))\n",
    "            psi6lst.append(np.abs(tdot.psi6vor))\n",
    "        except TypeError: \n",
    "            pass \n",
    "    psi4s.append(np.average(psi4lst))\n",
    "    psi6s.append(np.average(psi6lst))\n",
    "    psi4error.append(np.std(psi4lst))\n",
    "    psi6error.append(np.std(psi6lst))\n",
    "\n",
    "fig, ax = plt.subplots(figsize = (8,6))\n",
    "\n",
    "ax.errorbar(SL_list, psi6s, yerr = psi6error, fmt = 'o', c = 'blue',capthick = 2, capsize = 8,\n",
    "            label = r'$|\\Psi_6|$', ms = 12, lw = 1)\n",
    "ax.errorbar(SL_list, psi4s, yerr = psi4error, fmt = 'o', c = 'red',capthick = 2, capsize = 8,\n",
    "            label = r'$|\\Psi_4|$', ms = 12, lw = 1)\n",
    "plt.xlabel('Skewness of SL (degrees)', fontsize = 18)\n",
    "plt.ylabel('Magnitude', fontsize = 22)\n",
    "# legend = ax.legend(loc='upper right')\n",
    "ax.set_xlim(0,20)\n",
    "ax.set_ylim(0,1)\n",
    "# plt.savefig('/Users/arthur/Desktop/Arthur/presentables/m&m_2017/poster/images/skewness_plot.png', \n",
    "#             dpi = 250)\n",
    "plt.show()"
   ]
  },
  {
   "cell_type": "markdown",
   "metadata": {
    "hidden": true
   },
   "source": [
    "histogram of magnitude psi4 psi6 "
   ]
  },
  {
   "cell_type": "code",
   "execution_count": null,
   "metadata": {
    "collapsed": false,
    "hidden": true,
    "scrolled": true
   },
   "outputs": [],
   "source": [
    "psi4list = []\n",
    "psi6list = []\n",
    "for tdot in s29.QD_list: \n",
    "    if tdot.psi4vor is not None: \n",
    "        psi4list.append(np.abs(tdot.psi4vor))\n",
    "        psi6list.append(np.abs(tdot.psi6vor))\n",
    "        \n",
    "for tdot in s36.QD_list: \n",
    "    if tdot.psi4vor is not None: \n",
    "        psi4list.append(np.abs(tdot.psi4vor))\n",
    "        psi6list.append(np.abs(tdot.psi6vor))\n",
    "        \n",
    "for tdot in s45.QD_list: \n",
    "    if tdot.psi4vor is not None: \n",
    "        psi4list.append(np.abs(tdot.psi4vor))\n",
    "        psi6list.append(np.abs(tdot.psi6vor))\n",
    "        \n",
    "for tdot in s53.QD_list: \n",
    "    if tdot.psi4vor is not None: \n",
    "        psi4list.append(np.abs(tdot.psi4vor))\n",
    "        psi6list.append(np.abs(tdot.psi6vor))\n",
    "        \n",
    "fig, ax = plt.subplots()\n",
    "weights_psi4 = np.ones_like(psi4list)/float(len(psi4list))\n",
    "weights_psi6 = np.ones_like(psi6list)/float(len(psi6list))\n",
    "bins = np.linspace(0, 1, 40)\n",
    "\n",
    "ax.hist(psi4list, bins, alpha=0.5, weights = weights_psi4, label=r'$\\left| \\psi_4 \\right|$')\n",
    "ax.hist(psi6list, bins, alpha=0.5, weights = weights_psi6, label=r'$\\left| \\psi_6 \\right|$')\n",
    "plt.tick_params(axis='both', which='major', labelsize=20)\n",
    "plt.tick_params(axis='both', which='minor', labelsize=20)\n",
    "ax.legend(loc='upper right')\n",
    "# plt.savefig('/Users/arthur/Desktop/Arthur/presentables/m&m_2017/poster/images/histo_psi4_psi6.png', dpi = 250)\n",
    "plt.show()"
   ]
  },
  {
   "cell_type": "markdown",
   "metadata": {
    "hidden": true
   },
   "source": [
    "percentage counts plot:"
   ]
  },
  {
   "cell_type": "code",
   "execution_count": null,
   "metadata": {
    "collapsed": false,
    "hidden": true
   },
   "outputs": [],
   "source": [
    "N = 6\n",
    "nums = (90/1823, 512/1823, 864/1823, 307/1823, 14/1823,36/1823)\n",
    "\n",
    "ind = np.arange(N)  # the x locations for the groups\n",
    "width = 0.35       # the width of the bars\n",
    "\n",
    "fig, ax = plt.subplots()\n",
    "rects1 = ax.bar(ind, nums, width, color='black')\n",
    "\n",
    "# add some text for labels, title and axes ticks\n",
    "# ax.set_ylabel('Probability', fontsize = 20)\n",
    "ax.set_title('Distribution of Orientations')\n",
    "ax.set_xticks(ind + width / 2)\n",
    "ax.set_xticklabels(('No structure', '<1,0,0>', '<1,x,0>', '<1,y,y>', '<1,1,0>', '<1,z+1,z>'))\n",
    "ax.set_ylim(0,0.55)\n",
    "ax.set_xlim(-0.35/2, 5.6)\n",
    "plt.xticks(rotation=-30)\n",
    "plt.tick_params(axis='both', which='major', labelsize=18)\n",
    "plt.tick_params(axis='both', which='minor', labelsize=18)\n",
    "\n",
    "for tick in ax.xaxis.get_majorticklabels():\n",
    "    tick.set_horizontalalignment(\"left\")\n",
    "\n",
    "for rect in rects1:\n",
    "    height = rect.get_height() \n",
    "    print(height)\n",
    "    ax.text(rect.get_x() + rect.get_width()/2., height + 0.005,\n",
    "            '%0.2f' % (100 * height) + '%',\n",
    "            ha='center', va='bottom', fontsize = 16)\n",
    "plt.savefig('/Users/arthur/Desktop/Arthur/presentables/m&m_2017/poster/images/distribution_bar_plot.png', \n",
    "            dpi = 250,bbox_inches = 'tight')\n",
    "plt.show()"
   ]
  },
  {
   "cell_type": "markdown",
   "metadata": {
    "hidden": true
   },
   "source": [
    "Grain boundary:"
   ]
  },
  {
   "cell_type": "code",
   "execution_count": null,
   "metadata": {
    "collapsed": false,
    "hidden": true
   },
   "outputs": [],
   "source": [
    "alpha_vector_overlay(s36.QD_list_crop, s36.orig_image, alphas = False, others = True, save = False)"
   ]
  },
  {
   "cell_type": "code",
   "execution_count": null,
   "metadata": {
    "collapsed": true,
    "hidden": true
   },
   "outputs": [],
   "source": []
  },
  {
   "cell_type": "markdown",
   "metadata": {
    "hidden": true
   },
   "source": [
    "### mag psi4 histogram"
   ]
  },
  {
   "cell_type": "code",
   "execution_count": null,
   "metadata": {
    "collapsed": false,
    "hidden": true,
    "scrolled": true
   },
   "outputs": [],
   "source": [
    "retlist = []\n",
    "# for tdot in QD_list_tot:\n",
    "for tdot in np.append(sep_QD_list_tot[4],sep_QD_list_tot[5]):\n",
    "# a = np.append(sep_QD_list_tot[1], sep_QD_list_tot[2])\n",
    "# b = np.append(sep_QD_list_tot[4], sep_QD_list_tot[5])\n",
    "# ooplane = np.append(a,b)\n",
    "# for tdot in ooplane:\n",
    "    try:\n",
    "        psi = np.abs(tdot.psi4vor)\n",
    "        retlist.append(psi)\n",
    "    except AttributeError:\n",
    "        print(tdot.image, tdot.QD_index)\n",
    "    if psi < 0.4:\n",
    "        print(tdot.image, tdot.QD_index, psi)\n",
    "    \n",
    "num_bins = 49\n",
    "histo, bin_edges = np.histogram(retlist, bins = num_bins, range = (0,1))\n",
    "fig, ax = plt.subplots()\n",
    "plt.bar(bin_edges[:-1], histo, width = 1/num_bins)\n",
    "plt.xlim(min(bin_edges), max(bin_edges))\n",
    "# plt.show()   \n",
    "histo"
   ]
  },
  {
   "cell_type": "code",
   "execution_count": null,
   "metadata": {
    "collapsed": false,
    "hidden": true
   },
   "outputs": [],
   "source": [
    "tdot = s29.QD_list[363]\n",
    "orig_im = s29.orig_image\n",
    "(subimg,fft,r,subimg_wide) = s29.dot_fft(tdot, orig_im)\n",
    "s29.show_dot_fft(tdot,subimg,fft,r,subimg_wide, False)"
   ]
  },
  {
   "cell_type": "code",
   "execution_count": null,
   "metadata": {
    "collapsed": true,
    "hidden": true
   },
   "outputs": [],
   "source": []
  },
  {
   "cell_type": "code",
   "execution_count": null,
   "metadata": {
    "collapsed": true,
    "hidden": true
   },
   "outputs": [],
   "source": []
  }
 ],
 "metadata": {
  "anaconda-cloud": {},
  "kernelspec": {
   "display_name": "Python 3",
   "language": "python",
   "name": "python3"
  },
  "language_info": {
   "codemirror_mode": {
    "name": "ipython",
    "version": 3
   },
   "file_extension": ".py",
   "mimetype": "text/x-python",
   "name": "python",
   "nbconvert_exporter": "python",
   "pygments_lexer": "ipython3",
   "version": "3.7.3"
  }
 },
 "nbformat": 4,
 "nbformat_minor": 2
}
